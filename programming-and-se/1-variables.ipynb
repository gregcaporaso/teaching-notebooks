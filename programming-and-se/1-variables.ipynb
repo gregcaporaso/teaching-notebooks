{
 "metadata": {
  "name": "1-variables"
 },
 "nbformat": 3,
 "nbformat_minor": 0,
 "worksheets": [
  {
   "cells": [
    {
     "cell_type": "markdown",
     "metadata": {},
     "source": [
      "**Important**: see discussion on the intentions for these materials in the [overview notebook](http://nbviewer.ipython.org/github/gregcaporaso/An-Introduction-To-Applied-Bioinformatics/blob/master/programming-and-se/0-overview.ipynb) for this chapter."
     ]
    },
    {
     "cell_type": "markdown",
     "metadata": {},
     "source": [
      "**Defining integer, string, and floating point variables**"
     ]
    },
    {
     "cell_type": "markdown",
     "metadata": {},
     "source": [
      "Variables are set using the ``=`` operator. Here we define two integers, two strings, and two floats."
     ]
    },
    {
     "cell_type": "code",
     "collapsed": true,
     "input": [
      "i = 42\n",
      "j = 65\n",
      "k = \"hello\"\n",
      "l = \"world\"\n",
      "m = 42.0\n",
      "n = 43.0"
     ],
     "language": "python",
     "metadata": {},
     "outputs": [],
     "prompt_number": 1
    },
    {
     "cell_type": "markdown",
     "metadata": {},
     "source": [
      "Operations can now be applied to these variables"
     ]
    },
    {
     "cell_type": "code",
     "collapsed": false,
     "input": [
      "print i + j"
     ],
     "language": "python",
     "metadata": {},
     "outputs": [
      {
       "output_type": "stream",
       "stream": "stdout",
       "text": [
        "107\n"
       ]
      }
     ],
     "prompt_number": 2
    },
    {
     "cell_type": "code",
     "collapsed": false,
     "input": [
      "print m/n"
     ],
     "language": "python",
     "metadata": {},
     "outputs": [
      {
       "output_type": "stream",
       "stream": "stdout",
       "text": [
        "0.976744186047\n"
       ]
      }
     ],
     "prompt_number": 3
    },
    {
     "cell_type": "markdown",
     "metadata": {},
     "source": [
      "But type is important: operations have different meanings when applied to different types."
     ]
    },
    {
     "cell_type": "code",
     "collapsed": false,
     "input": [
      "print k + l"
     ],
     "language": "python",
     "metadata": {},
     "outputs": [
      {
       "output_type": "stream",
       "stream": "stdout",
       "text": [
        "helloworld\n"
       ]
      }
     ],
     "prompt_number": 4
    },
    {
     "cell_type": "markdown",
     "metadata": {},
     "source": [
      "And if you create data of the wrong type, you can get surprising results. What's happening here?"
     ]
    },
    {
     "cell_type": "code",
     "collapsed": false,
     "input": [
      "o = \"42\"\n",
      "p = \"65\"\n",
      "print o + p"
     ],
     "language": "python",
     "metadata": {},
     "outputs": [
      {
       "output_type": "stream",
       "stream": "stdout",
       "text": [
        "4265\n"
       ]
      }
     ],
     "prompt_number": 5
    },
    {
     "cell_type": "markdown",
     "metadata": {},
     "source": [
      "Sometimes operations can be applied to different types. When you add an integer and a float, float addition is performed."
     ]
    },
    {
     "cell_type": "code",
     "collapsed": false,
     "input": [
      "print i + m"
     ],
     "language": "python",
     "metadata": {},
     "outputs": [
      {
       "output_type": "stream",
       "stream": "stdout",
       "text": [
        "84.0\n"
       ]
      }
     ],
     "prompt_number": 6
    },
    {
     "cell_type": "markdown",
     "metadata": {},
     "source": [
      "But if you try to add an integer and a string, well, that doesn't really make sense. It's an undefined operation, and you get an error."
     ]
    },
    {
     "cell_type": "code",
     "collapsed": false,
     "input": [
      "print i + k"
     ],
     "language": "python",
     "metadata": {},
     "outputs": [
      {
       "ename": "TypeError",
       "evalue": "unsupported operand type(s) for +: 'int' and 'str'",
       "output_type": "pyerr",
       "traceback": [
        "\u001b[0;31m---------------------------------------------------------------------------\u001b[0m\n\u001b[0;31mTypeError\u001b[0m                                 Traceback (most recent call last)",
        "\u001b[0;32m<ipython-input-7-84ad1efdbebe>\u001b[0m in \u001b[0;36m<module>\u001b[0;34m()\u001b[0m\n\u001b[0;32m----> 1\u001b[0;31m \u001b[0;32mprint\u001b[0m \u001b[0mi\u001b[0m \u001b[0;34m+\u001b[0m \u001b[0mk\u001b[0m\u001b[0;34m\u001b[0m\u001b[0m\n\u001b[0m",
        "\u001b[0;31mTypeError\u001b[0m: unsupported operand type(s) for +: 'int' and 'str'"
       ]
      }
     ],
     "prompt_number": 7
    },
    {
     "cell_type": "markdown",
     "metadata": {},
     "source": [
      "**Changing the type of a variable**"
     ]
    },
    {
     "cell_type": "markdown",
     "metadata": {},
     "source": [
      "The type of a variable can be changed by `type casting` the variable. If we define a variable as an integer (i.e., an ``int``) we can subsequently cast it to a floating point value (i.e., a ``float``) by passing ``i`` to the ``float`` function.."
     ]
    },
    {
     "cell_type": "code",
     "collapsed": true,
     "input": [
      "i = 42"
     ],
     "language": "python",
     "metadata": {},
     "outputs": [],
     "prompt_number": 8
    },
    {
     "cell_type": "code",
     "collapsed": false,
     "input": [
      "print float(i)"
     ],
     "language": "python",
     "metadata": {},
     "outputs": [
      {
       "output_type": "stream",
       "stream": "stdout",
       "text": [
        "42.0\n"
       ]
      }
     ],
     "prompt_number": 9
    },
    {
     "cell_type": "markdown",
     "metadata": {},
     "source": [
      "Note that we haven't yet actually changed ``i``:"
     ]
    },
    {
     "cell_type": "code",
     "collapsed": false,
     "input": [
      "print i"
     ],
     "language": "python",
     "metadata": {},
     "outputs": [
      {
       "output_type": "stream",
       "stream": "stdout",
       "text": [
        "42\n"
       ]
      }
     ],
     "prompt_number": 10
    },
    {
     "cell_type": "markdown",
     "metadata": {},
     "source": [
      "The ``float(i)`` statement just printed what it would look like if it was a float. To change the value you'd do the following:"
     ]
    },
    {
     "cell_type": "code",
     "collapsed": false,
     "input": [
      "i = float(i)\n",
      "print i"
     ],
     "language": "python",
     "metadata": {},
     "outputs": [
      {
       "output_type": "stream",
       "stream": "stdout",
       "text": [
        "42.0\n"
       ]
      }
     ],
     "prompt_number": 11
    },
    {
     "cell_type": "markdown",
     "metadata": {},
     "source": [
      "**Lists and dictionaries**"
     ]
    },
    {
     "cell_type": "markdown",
     "metadata": {},
     "source": [
      "Lists are ordered collections of data. The elements of lists can be all of the same type or of different types."
     ]
    },
    {
     "cell_type": "code",
     "collapsed": true,
     "input": [
      "l = [1, 2, 3, 'hello', 4]"
     ],
     "language": "python",
     "metadata": {},
     "outputs": [],
     "prompt_number": 12
    },
    {
     "cell_type": "code",
     "collapsed": false,
     "input": [
      "print l"
     ],
     "language": "python",
     "metadata": {},
     "outputs": [
      {
       "output_type": "stream",
       "stream": "stdout",
       "text": [
        "[1, 2, 3, 'hello', 4]\n"
       ]
      }
     ],
     "prompt_number": 13
    },
    {
     "cell_type": "markdown",
     "metadata": {},
     "source": [
      "Elements in a list are accessed by their index in the list, and counting begins at 0."
     ]
    },
    {
     "cell_type": "code",
     "collapsed": false,
     "input": [
      "print l[0]\n",
      "print l[1]\n",
      "print l[2]\n",
      "print l[3]\n",
      "print l[4]"
     ],
     "language": "python",
     "metadata": {},
     "outputs": [
      {
       "output_type": "stream",
       "stream": "stdout",
       "text": [
        "1\n",
        "2\n",
        "3\n",
        "hello\n",
        "4\n"
       ]
      }
     ],
     "prompt_number": 14
    },
    {
     "cell_type": "markdown",
     "metadata": {},
     "source": [
      "If you try to index a position that is higher than the length of the list, you'll get an IndexError, indicating that that position doesn't exist (i.e., it's out of range)."
     ]
    },
    {
     "cell_type": "code",
     "collapsed": false,
     "input": [
      "print l[5]"
     ],
     "language": "python",
     "metadata": {},
     "outputs": [
      {
       "ename": "IndexError",
       "evalue": "list index out of range",
       "output_type": "pyerr",
       "traceback": [
        "\u001b[0;31m---------------------------------------------------------------------------\u001b[0m\n\u001b[0;31mIndexError\u001b[0m                                Traceback (most recent call last)",
        "\u001b[0;32m<ipython-input-15-e61f378485c9>\u001b[0m in \u001b[0;36m<module>\u001b[0;34m()\u001b[0m\n\u001b[0;32m----> 1\u001b[0;31m \u001b[0;32mprint\u001b[0m \u001b[0ml\u001b[0m\u001b[0;34m[\u001b[0m\u001b[0;36m5\u001b[0m\u001b[0;34m]\u001b[0m\u001b[0;34m\u001b[0m\u001b[0m\n\u001b[0m",
        "\u001b[0;31mIndexError\u001b[0m: list index out of range"
       ]
      }
     ],
     "prompt_number": 15
    },
    {
     "cell_type": "markdown",
     "metadata": {},
     "source": [
      "Dictionaries are similar to lists, except they are an unordered set of (key, value) pairs. These are often useful when you have information that you'd like to access by name rather than by index, and when you don't care about the order. A good example is a dictionary containing the molecular weights of the amino acids represented in the canonical genetic code."
     ]
    },
    {
     "cell_type": "code",
     "collapsed": false,
     "input": [
      "amino_acid_mr = {\"Isoleucine\" : 131.1736,\n",
      "\"Leucine\" : 131.1736,\n",
      "\"Lysine\" : 146.1882,\n",
      "\"Methionine\" : 149.2124,\n",
      "\"Phenylalanine\" : 165.1900,\n",
      "\"Threonine\" : 119.1197,\n",
      "\"Tryptophan\" : 204.2262,\n",
      "\"Valine\" : 117.1469,\n",
      "\"Arginine\" : 174.2017,\n",
      "\"Histidine\" : 155.1552,\n",
      "\"Alanine\" : 89.0935,\n",
      "\"Asparagine\" : 132.1184,\n",
      "\"Aspartate\" : 133.1032,\n",
      "\"Cysteine\" : 121.1590,\n",
      "\"Glutamate\" : 147.1299,\n",
      "\"Glutamine\" : 146.1451,\n",
      "\"Glycine\" : 75.0669,\n",
      "\"Proline\" : 115.1310,\n",
      "\"Serine\" : 105.0930,\n",
      "\"Tyrosine\" : 181.1894}"
     ],
     "language": "python",
     "metadata": {},
     "outputs": [],
     "prompt_number": 16
    },
    {
     "cell_type": "markdown",
     "metadata": {},
     "source": [
      "You can then access the entries in the dictionary by their key (i.e., their name)"
     ]
    },
    {
     "cell_type": "code",
     "collapsed": false,
     "input": [
      "amino_acid_mr['Threonine']"
     ],
     "language": "python",
     "metadata": {},
     "outputs": [
      {
       "output_type": "pyout",
       "prompt_number": 17,
       "text": [
        "119.1197"
       ]
      }
     ],
     "prompt_number": 17
    },
    {
     "cell_type": "code",
     "collapsed": false,
     "input": [
      "amino_acid_mr['Valine']"
     ],
     "language": "python",
     "metadata": {},
     "outputs": [
      {
       "output_type": "pyout",
       "prompt_number": 18,
       "text": [
        "117.1469"
       ]
      }
     ],
     "prompt_number": 18
    },
    {
     "cell_type": "markdown",
     "metadata": {},
     "source": [
      "And you can perform operations directly on these"
     ]
    },
    {
     "cell_type": "code",
     "collapsed": false,
     "input": [
      "print amino_acid_mr['Threonine'] + amino_acid_mr['Valine']"
     ],
     "language": "python",
     "metadata": {},
     "outputs": [
      {
       "output_type": "stream",
       "stream": "stdout",
       "text": [
        "236.2666\n"
       ]
      }
     ],
     "prompt_number": 19
    },
    {
     "cell_type": "markdown",
     "metadata": {},
     "source": [
      "**Applying python's function to variables**"
     ]
    },
    {
     "cell_type": "markdown",
     "metadata": {},
     "source": [
      "Python's variables have built-in functions that can be applied to them. For example, the ``len`` function can be call on lists, dictionaries, and strings. "
     ]
    },
    {
     "cell_type": "code",
     "collapsed": false,
     "input": [
      "print len(amino_acid_mr)"
     ],
     "language": "python",
     "metadata": {},
     "outputs": [
      {
       "output_type": "stream",
       "stream": "stdout",
       "text": [
        "20\n"
       ]
      }
     ],
     "prompt_number": 20
    },
    {
     "cell_type": "code",
     "collapsed": false,
     "input": [
      "print len(\"Hello world!\")"
     ],
     "language": "python",
     "metadata": {},
     "outputs": [
      {
       "output_type": "stream",
       "stream": "stdout",
       "text": [
        "12\n"
       ]
      }
     ],
     "prompt_number": 21
    },
    {
     "cell_type": "markdown",
     "metadata": {},
     "source": [
      "Some variables also have built-in functions, known as methods. It can be a little confusing at first to figure out what operations are accessible via functions (where your varaible is passes as an argument) or via methods. It's an unfortunate feature of python that operations are defined differently, and something that the python development group is working on fixing in Python 3."
     ]
    },
    {
     "cell_type": "markdown",
     "metadata": {},
     "source": [
      "``keys`` is a built-in method of dictionaries, which returns a list of the keys in the dictionary."
     ]
    },
    {
     "cell_type": "code",
     "collapsed": false,
     "input": [
      "amino_acid_mr.keys()"
     ],
     "language": "python",
     "metadata": {},
     "outputs": [
      {
       "output_type": "pyout",
       "prompt_number": 22,
       "text": [
        "['Lysine',\n",
        " 'Alanine',\n",
        " 'Glycine',\n",
        " 'Glutamate',\n",
        " 'Asparagine',\n",
        " 'Glutamine',\n",
        " 'Arginine',\n",
        " 'Phenylalanine',\n",
        " 'Leucine',\n",
        " 'Methionine',\n",
        " 'Serine',\n",
        " 'Valine',\n",
        " 'Cysteine',\n",
        " 'Tryptophan',\n",
        " 'Isoleucine',\n",
        " 'Threonine',\n",
        " 'Proline',\n",
        " 'Aspartate',\n",
        " 'Histidine',\n",
        " 'Tyrosine']"
       ]
      }
     ],
     "prompt_number": 22
    },
    {
     "cell_type": "markdown",
     "metadata": {},
     "source": [
      "To find out what methods are available, you can call the ``dir`` function, passing your varaible as an argument to that function. Ignore the ones beginning with ``__`` for now."
     ]
    },
    {
     "cell_type": "code",
     "collapsed": false,
     "input": [
      "s = \"Hello world!\"\n",
      "dir(s)"
     ],
     "language": "python",
     "metadata": {},
     "outputs": [
      {
       "output_type": "pyout",
       "prompt_number": 23,
       "text": [
        "['__add__',\n",
        " '__class__',\n",
        " '__contains__',\n",
        " '__delattr__',\n",
        " '__doc__',\n",
        " '__eq__',\n",
        " '__format__',\n",
        " '__ge__',\n",
        " '__getattribute__',\n",
        " '__getitem__',\n",
        " '__getnewargs__',\n",
        " '__getslice__',\n",
        " '__gt__',\n",
        " '__hash__',\n",
        " '__init__',\n",
        " '__le__',\n",
        " '__len__',\n",
        " '__lt__',\n",
        " '__mod__',\n",
        " '__mul__',\n",
        " '__ne__',\n",
        " '__new__',\n",
        " '__reduce__',\n",
        " '__reduce_ex__',\n",
        " '__repr__',\n",
        " '__rmod__',\n",
        " '__rmul__',\n",
        " '__setattr__',\n",
        " '__sizeof__',\n",
        " '__str__',\n",
        " '__subclasshook__',\n",
        " '_formatter_field_name_split',\n",
        " '_formatter_parser',\n",
        " 'capitalize',\n",
        " 'center',\n",
        " 'count',\n",
        " 'decode',\n",
        " 'encode',\n",
        " 'endswith',\n",
        " 'expandtabs',\n",
        " 'find',\n",
        " 'format',\n",
        " 'index',\n",
        " 'isalnum',\n",
        " 'isalpha',\n",
        " 'isdigit',\n",
        " 'islower',\n",
        " 'isspace',\n",
        " 'istitle',\n",
        " 'isupper',\n",
        " 'join',\n",
        " 'ljust',\n",
        " 'lower',\n",
        " 'lstrip',\n",
        " 'partition',\n",
        " 'replace',\n",
        " 'rfind',\n",
        " 'rindex',\n",
        " 'rjust',\n",
        " 'rpartition',\n",
        " 'rsplit',\n",
        " 'rstrip',\n",
        " 'split',\n",
        " 'splitlines',\n",
        " 'startswith',\n",
        " 'strip',\n",
        " 'swapcase',\n",
        " 'title',\n",
        " 'translate',\n",
        " 'upper',\n",
        " 'zfill']"
       ]
      }
     ],
     "prompt_number": 23
    },
    {
     "cell_type": "markdown",
     "metadata": {},
     "source": [
      "``replace`` is a particularly useful method (especially if you're working on `Programming Assignment 1`). What am I doing here? "
     ]
    },
    {
     "cell_type": "code",
     "collapsed": false,
     "input": [
      "s = s.replace('l','L')\n",
      "print s"
     ],
     "language": "python",
     "metadata": {},
     "outputs": [
      {
       "output_type": "stream",
       "stream": "stdout",
       "text": [
        "HeLLo worLd!\n"
       ]
      }
     ],
     "prompt_number": 24
    },
    {
     "cell_type": "markdown",
     "metadata": {},
     "source": [
      "When working in an interactive python session, you can get help on a method or function using the ``help`` function:"
     ]
    },
    {
     "cell_type": "code",
     "collapsed": false,
     "input": [
      "print help(len)"
     ],
     "language": "python",
     "metadata": {},
     "outputs": [
      {
       "output_type": "stream",
       "stream": "stdout",
       "text": [
        "Help on built-in function len in module __builtin__:\n",
        "\n",
        "len(...)\n",
        "    len(object) -> integer\n",
        "    \n",
        "    Return the number of items of a sequence or mapping.\n",
        "\n",
        "None\n"
       ]
      }
     ],
     "prompt_number": 25
    },
    {
     "cell_type": "code",
     "collapsed": false,
     "input": [
      "print help(s.replace)"
     ],
     "language": "python",
     "metadata": {},
     "outputs": [
      {
       "output_type": "stream",
       "stream": "stdout",
       "text": [
        "Help on built-in function replace:\n",
        "\n",
        "replace(...)\n",
        "    S.replace(old, new[, count]) -> string\n",
        "    \n",
        "    Return a copy of string S with all occurrences of substring\n",
        "    old replaced by new.  If the optional argument count is\n",
        "    given, only the first count occurrences are replaced.\n",
        "\n",
        "None\n"
       ]
      }
     ],
     "prompt_number": 26
    },
    {
     "cell_type": "code",
     "collapsed": true,
     "input": [],
     "language": "python",
     "metadata": {},
     "outputs": []
    }
   ],
   "metadata": {}
  }
 ]
}