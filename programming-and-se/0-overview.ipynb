{
 "metadata": {
  "name": "0-overview"
 },
 "nbformat": 3,
 "nbformat_minor": 0,
 "worksheets": [
  {
   "cells": [
    {
     "cell_type": "heading",
     "level": 1,
     "metadata": {},
     "source": [
      "Programming and concepts of software engineering"
     ]
    },
    {
     "cell_type": "markdown",
     "metadata": {},
     "source": [
      "This section is intended to introduce the basics of python programming for applied bioinformatics. However, there are a lot of texts out there on python programming, so it's likely that I will end up covering a few specific use cases here, and pointing to other existing resources for general coverage of the topic. For now, you can find some suggestions on materials for getting started with programming on my teaching website [here](http://caporasolab.us/teaching/#some-resources-for-getting-started-with-bioinformatics-and-python).\n",
      "\n",
      "The notebooks in this section contain materials that I developed for teaching python in my graduate course at NAU. These are heavily based on the python programming chapters in the excellent text, [Practical Computing for Biologists](http://www.amazon.com/Practical-Computing-Biologists-Steven-Haddock/dp/0878933913). **These notebooks are not standalone right now, and I'm unsure of whether I will ever make them standalone since there are other good resources dedicated to the topic.**\n",
      "\n"
     ]
    }
   ],
   "metadata": {}
  }
 ]
}