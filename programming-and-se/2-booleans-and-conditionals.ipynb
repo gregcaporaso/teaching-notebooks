{
 "metadata": {
  "name": "2-booleans-and-conditionals"
 },
 "nbformat": 3,
 "nbformat_minor": 0,
 "worksheets": [
  {
   "cells": [
    {
     "cell_type": "markdown",
     "metadata": {},
     "source": [
      "**Important**: see discussion on the intentions for these materials in the [overview notebook](http://nbviewer.ipython.org/github/gregcaporaso/An-Introduction-To-Applied-Bioinformatics/blob/master/programming-and-se/0-overview.ipynb) for this chapter."
     ]
    },
    {
     "cell_type": "markdown",
     "metadata": {},
     "source": [
      "**Boolean variables**\n",
      "\n",
      "Boolean variables are used to represent the values ``True`` and ``False`` only. \n"
     ]
    },
    {
     "cell_type": "code",
     "collapsed": true,
     "input": [
      "x = True\n",
      "y = False"
     ],
     "language": "python",
     "metadata": {},
     "outputs": [],
     "prompt_number": 1
    },
    {
     "cell_type": "markdown",
     "metadata": {},
     "source": [
      "Logical operators such as ``==``, ``>=``, and ``>`` return boolean values."
     ]
    },
    {
     "cell_type": "code",
     "collapsed": false,
     "input": [
      "z = 43\n",
      "print z > 41"
     ],
     "language": "python",
     "metadata": {},
     "outputs": [
      {
       "output_type": "stream",
       "stream": "stdout",
       "text": [
        "True\n"
       ]
      }
     ],
     "prompt_number": 2
    },
    {
     "cell_type": "markdown",
     "metadata": {},
     "source": [
      "These values can of course be assigned to new variables."
     ]
    },
    {
     "cell_type": "code",
     "collapsed": false,
     "input": [
      "x = z > 41\n",
      "print x"
     ],
     "language": "python",
     "metadata": {},
     "outputs": [
      {
       "output_type": "stream",
       "stream": "stdout",
       "text": [
        "True\n"
       ]
      }
     ],
     "prompt_number": 3
    },
    {
     "cell_type": "markdown",
     "metadata": {},
     "source": [
      "The comparative operators that python implements are the following. Modify the values of ``x`` and ``y`` to see their affect on the result of these statements."
     ]
    },
    {
     "cell_type": "code",
     "collapsed": false,
     "input": [
      "print x == y # equal to\n",
      "print x != y # not equal to\n",
      "print x > y # greater than\n",
      "print x < y # less than\n",
      "print x >= y # greater than or equal to\n",
      "print x <= y # less than or equal to"
     ],
     "language": "python",
     "metadata": {},
     "outputs": [
      {
       "output_type": "stream",
       "stream": "stdout",
       "text": [
        "False\n",
        "True\n",
        "True\n",
        "False\n",
        "True\n",
        "False\n"
       ]
      }
     ],
     "prompt_number": 4
    },
    {
     "cell_type": "markdown",
     "metadata": {},
     "source": [
      "**Conditional statements**\n",
      "\n",
      "Conditional statements are used to control whether specific *blocks* of code are executed. (The code indented under an ``if`` statement is often called a *block* of code.) In an ``if`` statement, the indented block is executed if the `condition` evalutes to `True`.\n",
      "\n",
      "Boolean variables are used with conditional statements. Experiment with the if blocks below to learn how this works."
     ]
    },
    {
     "cell_type": "code",
     "collapsed": false,
     "input": [
      "if z > 41:\n",
      "    print \"I'm in the if block\""
     ],
     "language": "python",
     "metadata": {},
     "outputs": [
      {
       "output_type": "stream",
       "stream": "stdout",
       "text": [
        "I'm in the if block\n"
       ]
      }
     ],
     "prompt_number": 5
    },
    {
     "cell_type": "code",
     "collapsed": false,
     "input": [
      "if True:\n",
      "    print \"I'm in another if block\""
     ],
     "language": "python",
     "metadata": {},
     "outputs": [
      {
       "output_type": "stream",
       "stream": "stdout",
       "text": [
        "I'm in another if block\n"
       ]
      }
     ],
     "prompt_number": 6
    },
    {
     "cell_type": "code",
     "collapsed": true,
     "input": [
      "if False:\n",
      "    print \"I'm in this if block\""
     ],
     "language": "python",
     "metadata": {},
     "outputs": [],
     "prompt_number": 7
    },
    {
     "cell_type": "markdown",
     "metadata": {},
     "source": [
      "To switch between exectuing different blocks of code based on a boolean value, you can use an ``if/else`` statement as follows. Again, experiment with the following code to learn how this works."
     ]
    },
    {
     "cell_type": "code",
     "collapsed": false,
     "input": [
      "if z < 41:\n",
      "    print \"I'm in the if block\"\n",
      "else:\n",
      "    print \"I'm in the else block\""
     ],
     "language": "python",
     "metadata": {},
     "outputs": [
      {
       "output_type": "stream",
       "stream": "stdout",
       "text": [
        "I'm in the else block\n"
       ]
      }
     ],
     "prompt_number": 8
    },
    {
     "cell_type": "markdown",
     "metadata": {},
     "source": [
      "Logical operators, such as ``and``, ``or`` and ``not`` can be used to compare boolean values and also return boolean values. "
     ]
    },
    {
     "cell_type": "code",
     "collapsed": false,
     "input": [
      "print z < 41 and z > 41"
     ],
     "language": "python",
     "metadata": {},
     "outputs": [
      {
       "output_type": "stream",
       "stream": "stdout",
       "text": [
        "False\n"
       ]
      }
     ],
     "prompt_number": 9
    },
    {
     "cell_type": "code",
     "collapsed": false,
     "input": [
      "print z < 41 or z > 41"
     ],
     "language": "python",
     "metadata": {},
     "outputs": [
      {
       "output_type": "stream",
       "stream": "stdout",
       "text": [
        "True\n"
       ]
      }
     ],
     "prompt_number": 10
    },
    {
     "cell_type": "markdown",
     "metadata": {},
     "source": [
      "As these get increasingly complex, you can use parenthesis to help control the order of operations. "
     ]
    },
    {
     "cell_type": "code",
     "collapsed": false,
     "input": [
      "print not (z < 41 or z > 41)"
     ],
     "language": "python",
     "metadata": {},
     "outputs": [
      {
       "output_type": "stream",
       "stream": "stdout",
       "text": [
        "False\n"
       ]
      }
     ],
     "prompt_number": 11
    },
    {
     "cell_type": "markdown",
     "metadata": {},
     "source": [
      "To switch between more than just two blocks of code, you can use ``if/elif/else`` statements. "
     ]
    },
    {
     "cell_type": "code",
     "collapsed": false,
     "input": [
      "\n",
      "base = \"U\"\n",
      "if base == \"A\" or base == \"a\":\n",
      "    print \"Adenine\"\n",
      "elif base == \"C\" or base == \"c\":\n",
      "    print \"Cytosine\"\n",
      "elif base == \"G\" or base == \"g\":\n",
      "    print \"Guanine\"\n",
      "elif base == \"T\" or base == \"t\":\n",
      "    print \"Thymine\"\n",
      "else:\n",
      "    print \"Base \" + str(base) + \" is not an IUPAC DNA abbreviation\"\n",
      "    "
     ],
     "language": "python",
     "metadata": {},
     "outputs": [
      {
       "output_type": "stream",
       "stream": "stdout",
       "text": [
        "Base U is not an IUPAC DNA abbreviation\n"
       ]
      }
     ],
     "prompt_number": 12
    },
    {
     "cell_type": "markdown",
     "metadata": {},
     "source": [
      "**Loops: the ``for`` loop**\n",
      "\n",
      "The ``for`` loop is used to iterate over the entries in an iterable type, such as a ``string`` or ``list``. A new variable is incrementally set to the value of the next entry in the iterable object until there are no items left, at which point the program leaves the ``for`` loop."
     ]
    },
    {
     "cell_type": "code",
     "collapsed": false,
     "input": [
      "dna_seq = \"ACCGGTTATTACC\"\n",
      "for base in dna_seq:\n",
      "    print base"
     ],
     "language": "python",
     "metadata": {},
     "outputs": [
      {
       "output_type": "stream",
       "stream": "stdout",
       "text": [
        "A\n",
        "C\n",
        "C\n",
        "G\n",
        "G\n",
        "T\n",
        "T\n",
        "A\n",
        "T\n",
        "T\n",
        "A\n",
        "C\n",
        "C\n"
       ]
      }
     ],
     "prompt_number": 13
    },
    {
     "cell_type": "markdown",
     "metadata": {},
     "source": [
      "Using a for loop, you could implement a simpler version of the complementing functionality assigned in Programming Assignment 1."
     ]
    },
    {
     "cell_type": "code",
     "collapsed": false,
     "input": [
      "dna_seq = \"ACCGTGGACCAGGTTAA\"\n",
      "comp = \"\"\n",
      "for base in dna_seq:\n",
      "    if base == \"A\" or base == \"a\":\n",
      "        comp = comp + \"T\"\n",
      "    elif base == \"C\" or base == \"c\":\n",
      "        comp = comp + \"G\"\n",
      "    elif base == \"G\" or base == \"g\":\n",
      "        comp = comp + \"C\"\n",
      "    elif base == \"T\" or base == \"t\":\n",
      "        comp = comp + \"A\"\n",
      "    else:\n",
      "        print \"Base \" + str(base) + \" is not an IUPAC DNA abbreviation. Can not continue.\"\n",
      "print \"Input sequence:\"\n",
      "print dna_seq\n",
      "print \"Complement of input sequence:\"\n",
      "print comp"
     ],
     "language": "python",
     "metadata": {},
     "outputs": [
      {
       "output_type": "stream",
       "stream": "stdout",
       "text": [
        "Input sequence:\n",
        "ACCGTGGACCAGGTTAA\n",
        "Complement of input sequence:\n",
        "TGGCACCTGGTCCAATT\n"
       ]
      }
     ],
     "prompt_number": 14
    },
    {
     "cell_type": "markdown",
     "metadata": {},
     "source": [
      "Using other types that we've learned about, what would be an even better way to implement this functionality?"
     ]
    },
    {
     "cell_type": "code",
     "collapsed": true,
     "input": [],
     "language": "python",
     "metadata": {},
     "outputs": [],
     "prompt_number": 14
    }
   ],
   "metadata": {}
  }
 ]
}