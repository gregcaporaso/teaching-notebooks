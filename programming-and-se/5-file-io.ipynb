{
 "metadata": {
  "name": ""
 },
 "nbformat": 3,
 "nbformat_minor": 0,
 "worksheets": [
  {
   "cells": [
    {
     "cell_type": "markdown",
     "metadata": {},
     "source": [
      "**Important**: see discussion on the intentions for these materials in the [overview notebook](http://nbviewer.ipython.org/github/gregcaporaso/An-Introduction-To-Applied-Bioinformatics/blob/master/programming-and-se/0-overview.ipynb) for this chapter."
     ]
    },
    {
     "cell_type": "heading",
     "level": 1,
     "metadata": {},
     "source": [
      "File I/O"
     ]
    },
    {
     "cell_type": "markdown",
     "metadata": {},
     "source": [
      "Today we'll learn how to interact with files, including how to read from them and write to them. We'll also cover some tips for parising files."
     ]
    },
    {
     "cell_type": "heading",
     "level": 2,
     "metadata": {},
     "source": [
      "Reading files"
     ]
    },
    {
     "cell_type": "markdown",
     "metadata": {},
     "source": [
      "First, to open files we use the built in ``open`` function, which takes a file path and a `mode` to open the file in. The commonly used modes are ``U`` (read, with universal line break support), ``r`` (read, with unix line break support), ``w`` (write, overwriting any existing file content), and ``a`` (write, appending to any existing file content).\n",
      "\n",
      "We'll define the path to an existing file first. You can run some of the common shell commands to see what the file looks like (remember that prefixing a line with ``!`` means that it should be run with ``python`` instead of ``bash``."
     ]
    },
    {
     "cell_type": "code",
     "collapsed": false,
     "input": [
      "fp = \"glen-canyon-map.tsv\""
     ],
     "language": "python",
     "metadata": {},
     "outputs": [],
     "prompt_number": 1
    },
    {
     "cell_type": "code",
     "collapsed": false,
     "input": [
      "!ls $fp"
     ],
     "language": "python",
     "metadata": {},
     "outputs": [
      {
       "output_type": "stream",
       "stream": "stdout",
       "text": [
        "glen-canyon-map.tsv\r\n"
       ]
      }
     ],
     "prompt_number": 2
    },
    {
     "cell_type": "code",
     "collapsed": false,
     "input": [
      "!head $fp"
     ],
     "language": "python",
     "metadata": {},
     "outputs": [
      {
       "output_type": "stream",
       "stream": "stdout",
       "text": [
        "#SampleID\tBarcodeSequence\tLinkerPrimerSequence\tsite_number\tbag_sample_id\tsample_pH\tSample_Type\tWell_ID\tSample_Plate\tPrimer_Plate\tLane\tLatitude\tLongitude\tType\tTypeBasic\tEnv\tSourceSink\testimated_elevation\testimated_years_since_submerged\testimated_years_since_submerged_for_plotting\testimated_last_submerged\tgps_elevation\tgps_elevation_minus_estimated_elevation\tMonth\tDay\tYear\tdays_since_epoch\tHour\tSite\tSite_Name\tReplicate\tDNA_ID_No\tDescription\r\n",
        "Halls0R1\tGTATATCCGCAG\tCATGATCCTTCTGCAGGTTCACCTAC\t0\tha0r1\t9.17\tSoil\tc2\tGlenCanyon\t5\tLane4\tN37_28.365\tW110_42.550\tSediment\tSediment\tSediment\tsource\t3633\t0\t0.1\t2010\t3653\t20\t9\t29\t2010\t14881\t12\tHalls0\tHalls\t1\t16\tGlenCanyon_ha0r1\r\n",
        "Halls0R2\tGTCGTAGCCAGA\tCATGATCCTTCTGCAGGTTCACCTAC\t0\tha0r2\t9.15\tSoil\td2\tGlenCanyon\t5\tLane4\tN37_28.365\tW110_42.550\tSediment\tSediment\tSediment\tsource\t3633\t0\t0.1\t2010\t3653\t20\t9\t29\t2010\t14881\t12\tHalls0\tHalls\t2\t17\tGlenCanyon_ha0r2\r\n",
        "Halls1R1\tGCTGTGTAGGAC\tCATGATCCTTCTGCAGGTTCACCTAC\t1\tha1r1\t9.17\tSoil\ta2\tGlenCanyon\t5\tLane4\tN37_28.365\tW110_42.550\tSediment\tSediment\tSediment\tsource\t3633\t0\t0.1\t2010\t3653\t20\t9\t29\t2010\t14881\t12\tHalls1\tHalls\t1\t13\tGlenCanyon_ha1r1\r\n",
        "Halls1R2\tGGTCGTAGCGTA\tCATGATCCTTCTGCAGGTTCACCTAC\t1\tha1r2\t9.16\tSoil\tb2\tGlenCanyon\t5\tLane4\tN37_28.365\tW110_42.550\tSediment\tSediment\tSediment\tsource\t3633\t0\t0.1\t2010\t3653\t20\t9\t29\t2010\t14881\t12\tHalls1\tHalls\t2\t14\tGlenCanyon_ha1r2\r\n",
        "HCanyon0R1\tTAGACTGTACTC\tCATGATCCTTCTGCAGGTTCACCTAC\t0\thc1r1\t9.55\tSoil\tg10\tGlenCanyon\t5\tLane4\tN37_33.106\tW110_40.479\tSediment\tSediment\tSediment\tsource\t3633\t0\t0.1\t2010\t3633\t0\t9\t30\t2010\t14882\t1\tHCanyon0\tHcanyon\t1\t94\tGlenCanyon_hc1r1\r\n",
        "HCanyon0R2\tTAGTCGTCTAGT\tCATGATCCTTCTGCAGGTTCACCTAC\t0\thc1r2\t9.44\tSoil\ta9\tGlenCanyon\t5\tLane4\tN37_33.106\tW110_40.479\tSediment\tSediment\tSediment\tsource\t3633\t0\t0.1\t2010\t3633\t0\t9\t30\t2010\t14882\t1\tHCanyon0\tHcanyon\t2\t80\tGlenCanyon_hc1r2\r\n",
        "HCanyon0R3\tGGCTATGACATC\tCATGATCCTTCTGCAGGTTCACCTAC\t0\thc1r3\t9.41\tSoil\ta11\tGlenCanyon\t5\tLane4\tN37_33.106\tW110_40.479\tSediment\tSediment\tSediment\tsource\t3633\t0\t0.1\t2010\t3633\t0\t9\t30\t2010\t14882\t1\tHCanyon0\tHcanyon\t3\t96\tGlenCanyon_hc1r3\r\n",
        "HCanyon1R1\tGTCTTCGTCGCT\tCATGATCCTTCTGCAGGTTCACCTAC\t1\thc0r1\t9.31\tSoil\td10\tGlenCanyon\t5\tLane4\tN37_33.106\tW110_40.479\tSediment\tSediment\tSediment\tsource\t3633\t0\t0.1\t2010\t3633\t0\t9\t30\t2010\t14882\t1\tHCanyon1\tHcanyon\t1\t91\tGlenCanyon_hc0r1\r\n",
        "HCanyon1R2\tGTGTTGCAGCAT\tCATGATCCTTCTGCAGGTTCACCTAC\t1\thc0r2\t9.26\tSoil\te10\tGlenCanyon\t5\tLane4\tN37_33.106\tW110_40.479\tSediment\tSediment\tSediment\tsource\t3633\t0\t0.1\t2010\t3633\t0\t9\t30\t2010\t14882\t1\tHCanyon1\tHcanyon\t2\t92\tGlenCanyon_hc0r2\r\n"
       ]
      }
     ],
     "prompt_number": 3
    },
    {
     "cell_type": "markdown",
     "metadata": {},
     "source": [
      "As you can tell, we're looking at a QIIME-compatible metadata mapping file. One thing we might want to do is read this file in, perform some processing, and process that information. Imagine for example that you want to know what pH range these soils cover - let's look at how to do that.\n",
      "\n",
      "First, we'll open the file for reading. Here I'm opening the file in ``U`` mode, to open with support for universal line breaks. This is how you should always open a file for reading, except in rare circumstances (specifically, if it's a binary file, like a ``.gz`` file - this is rare)."
     ]
    },
    {
     "cell_type": "code",
     "collapsed": true,
     "input": [
      "f = open(fp,'U')"
     ],
     "language": "python",
     "metadata": {},
     "outputs": [],
     "prompt_number": 4
    },
    {
     "cell_type": "markdown",
     "metadata": {},
     "source": [
      "Often, we read files by iterating over the lines with a for loop. For example, we can do the following:\n",
      "\n",
      "``for line in f:``\n",
      "\n",
      "which will iteratively set line to each line in the file. In our case, we want to identify the first line in the file so we can find the ``sample_pH`` column index, and then we want to store that value for each line. We could do this as follows:"
     ]
    },
    {
     "cell_type": "code",
     "collapsed": true,
     "input": [
      "pH = []\n",
      "for line in f:\n",
      "    # first, let's clean up the line by\n",
      "    # removing any leading or trailing \n",
      "    # whitespace\n",
      "    line = line.strip()\n",
      "    # then, let's split it into a list\n",
      "    # of tab-separated values\n",
      "    fields = line.split('\\t')\n",
      "    # next, let's check if the line is our \n",
      "    # header line\n",
      "    if line.startswith('#'):\n",
      "        # if so, then find the position of sample_pH \n",
      "        pH_index = fields.index('sample_pH')\n",
      "    else:\n",
      "        # if this isn't a header line, it\n",
      "        # must be a data line, so let's get the\n",
      "        # sample's pH\n",
      "        pH.append(float(fields[pH_index]))"
     ],
     "language": "python",
     "metadata": {},
     "outputs": [],
     "prompt_number": 5
    },
    {
     "cell_type": "markdown",
     "metadata": {},
     "source": [
      "We should now have the all of the pH values. Let's check with a print statement."
     ]
    },
    {
     "cell_type": "code",
     "collapsed": false,
     "input": [
      "print pH"
     ],
     "language": "python",
     "metadata": {},
     "outputs": [
      {
       "output_type": "stream",
       "stream": "stdout",
       "text": [
        "[9.17, 9.15, 9.17, 9.16, 9.55, 9.44, 9.41, 9.31, 9.26, 9.13, 8.02, 8.0, 8.05, 8.35, 8.3, 9.23, 9.26, 9.55, 9.44, 9.41, 8.02, 8.0, 8.05, 9.45, 9.41, 9.65, 9.71, 9.67, 8.13, 8.21, 8.44, 9.46, 9.49, 9.49, 9.39, 9.42, 8.82, 8.75, 8.71, 9.5, 9.54, 9.45, 9.49, 9.46, 8.85, 9.44, 9.42, 9.47, 9.5, 9.51, 9.5, 9.54, 9.49, 9.06, 9.01, 9.34, 9.3, 9.38, 9.29, 9.38, 9.35, 9.35, 9.4, 8.89, 8.82, 8.9, 9.06, 8.9, 9.3, 9.34, 9.21, 9.19, 9.1, 9.19, 9.2, 9.1, 9.52, 9.5, 9.29, 9.25, 9.23, 9.27, 9.21, 9.3, 8.89, 8.84, 8.9, 9.27, 9.3, 9.2, 9.26, 9.29, 8.16, 8.19, 8.2]\n"
       ]
      }
     ],
     "prompt_number": 6
    },
    {
     "cell_type": "markdown",
     "metadata": {},
     "source": [
      "There are a few ways that we can check the min and max pH to determine the range. We'll go over these as a group to see what we come up with."
     ]
    },
    {
     "cell_type": "heading",
     "level": 2,
     "metadata": {},
     "source": [
      "Writing files"
     ]
    },
    {
     "cell_type": "markdown",
     "metadata": {},
     "source": [
      "We previously looked at how to read files using python, so now let's look briefly at how to write files. Again we use ``open``, but use either mode ``w`` (for write) or ``a`` (for append)."
     ]
    },
    {
     "cell_type": "code",
     "collapsed": false,
     "input": [
      "# open the file for writing\n",
      "f = open('example.txt','w')\n",
      "\n",
      "# write a few lines to it (including line breaks!)\n",
      "f.write(\"Hello world!\")\n",
      "f.write(\"\\n\")\n",
      "f.write(\"Goodbye!\")\n",
      "f.write(\"\\n\")\n",
      "\n",
      "# close the file (very important, to ensure that everything is written)\n",
      "f.close()"
     ],
     "language": "python",
     "metadata": {},
     "outputs": [],
     "prompt_number": 7
    },
    {
     "cell_type": "markdown",
     "metadata": {},
     "source": [
      "Here I wrote a few lines to file. We can view those from within the IPython Notebook using the ``bash`` command ``cat``. Remember that to run a ``bash`` command in the Notebook you preface it with an ``!``."
     ]
    },
    {
     "cell_type": "code",
     "collapsed": false,
     "input": [
      "!cat example.txt"
     ],
     "language": "python",
     "metadata": {},
     "outputs": [
      {
       "output_type": "stream",
       "stream": "stdout",
       "text": [
        "Hello world!\r\n",
        "Goodbye!\r\n"
       ]
      }
     ],
     "prompt_number": 8
    },
    {
     "cell_type": "code",
     "collapsed": false,
     "input": [
      "f = open('example.txt','w')\n",
      "f.write(\"This is a test!\\n\")\n",
      "f.close()"
     ],
     "language": "python",
     "metadata": {},
     "outputs": [],
     "prompt_number": 9
    },
    {
     "cell_type": "code",
     "collapsed": false,
     "input": [
      "!cat example.txt"
     ],
     "language": "python",
     "metadata": {},
     "outputs": [
      {
       "output_type": "stream",
       "stream": "stdout",
       "text": [
        "This is a test!\r\n"
       ]
      }
     ],
     "prompt_number": 10
    },
    {
     "cell_type": "code",
     "collapsed": false,
     "input": [
      "f = open('example.txt','a')\n",
      "f.write(\"This is only a test!\\n\")\n",
      "f.close()"
     ],
     "language": "python",
     "metadata": {},
     "outputs": [],
     "prompt_number": 11
    },
    {
     "cell_type": "markdown",
     "metadata": {},
     "source": [
      "Notice that we overwrote what was previously in that file. You need to be really careful with this - once you call ``open`` in ``w`` mode, any contents of an existing file will be immediately overwritten.\n",
      "\n",
      "To append to a file, we can open it in ``a`` mode."
     ]
    },
    {
     "cell_type": "code",
     "collapsed": false,
     "input": [
      "!cat example.txt"
     ],
     "language": "python",
     "metadata": {},
     "outputs": [
      {
       "output_type": "stream",
       "stream": "stdout",
       "text": [
        "This is a test!\r\n",
        "This is only a test!\r\n"
       ]
      }
     ],
     "prompt_number": 12
    },
    {
     "cell_type": "markdown",
     "metadata": {},
     "source": [
      "Notice that we now started writing at the end of the existing file. This distinction between writing to and appending to files should be familiar from when we looked at the ``>`` and ``>>`` operators in ``bash``. If you don't remember how those worked, go back and review them.\n",
      "\n",
      "We can of course now open this file in python and read on a line-by-line basis. Here's an example of how to do that, adding some annotation."
     ]
    },
    {
     "cell_type": "code",
     "collapsed": false,
     "input": [
      "f = open('example.txt','U')\n",
      "line_n = 1\n",
      "for line in f:\n",
      "    line = line.strip()\n",
      "    print \"Line number %d: %s\" % (line_n, line)\n",
      "    line_n += 1\n",
      "f.close()"
     ],
     "language": "python",
     "metadata": {},
     "outputs": [
      {
       "output_type": "stream",
       "stream": "stdout",
       "text": [
        "Line number 1: This is a test!\n",
        "Line number 2: This is only a test!\n"
       ]
      }
     ],
     "prompt_number": 13
    },
    {
     "cell_type": "markdown",
     "metadata": {},
     "source": [
      "Notice that I'm using some different syntax for building strings here. This can be more convenient than concatenating strings with ``+`` when your strings start getting more complex, but this is personal preference. You can find some discussion and exercises on the *Learn Python The Hard Way* site [here](http://learnpythonthehardway.org/book/ex5.html) and [here](http://learnpythonthehardway.org/book/ex6.html). "
     ]
    },
    {
     "cell_type": "code",
     "collapsed": false,
     "input": [],
     "language": "python",
     "metadata": {},
     "outputs": [],
     "prompt_number": 13
    }
   ],
   "metadata": {}
  }
 ]
}