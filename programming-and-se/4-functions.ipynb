{
 "metadata": {
  "name": ""
 },
 "nbformat": 3,
 "nbformat_minor": 0,
 "worksheets": [
  {
   "cells": [
    {
     "cell_type": "markdown",
     "metadata": {},
     "source": [
      "**Important**: see discussion on the intentions for these materials in the [overview notebook](http://nbviewer.ipython.org/github/gregcaporaso/An-Introduction-To-Applied-Bioinformatics/blob/master/programming-and-se/0-overview.ipynb) for this chapter."
     ]
    },
    {
     "cell_type": "code",
     "collapsed": false,
     "input": [
      "from __future__ import division"
     ],
     "language": "python",
     "metadata": {},
     "outputs": [],
     "prompt_number": 1
    },
    {
     "cell_type": "heading",
     "level": 1,
     "metadata": {},
     "source": [
      "Functions"
     ]
    },
    {
     "cell_type": "markdown",
     "metadata": {},
     "source": [
      "You may have noticed in your previous homework assignments that there are sections of code that are copied throughout the program. This is a problem for a few reasons:\n",
      "\n",
      "1. it's difficult to test (you need to test each implememtation of the functionality)\n",
      "2. it's harder to maintain (if you change something in one place, you need to change it everywhere, and as humans we're likely to mess that up)\n",
      "3. it's harder to develop (it takes longer) and harder for other developers to follow (including yourself in the future)\n",
      "\n",
      "Functions are one of the primary ways that we re-use code, and we'll look at defining functions to address that today.\n"
     ]
    },
    {
     "cell_type": "markdown",
     "metadata": {},
     "source": [
      "A function definition contains a few parts: the `def` keyword, a function name, and a list of parameters (or values) that a function takes as input. This is followed by a block of code which represents the execution block of the code, followed by a `return` statement which defines the output of the function.\n",
      "\n",
      "Here's a simple function:"
     ]
    },
    {
     "cell_type": "code",
     "collapsed": true,
     "input": [
      "def cube(x):\n",
      "    return x * x * x"
     ],
     "language": "python",
     "metadata": {},
     "outputs": [],
     "prompt_number": 2
    },
    {
     "cell_type": "markdown",
     "metadata": {},
     "source": [
      "Here, our function name is ``cube``. This function takes one input value, which will be referred to as ``x`` within the function, and it return one value. What does it return? Note that the parenthesis denote the comma-separated list of input value(s), and that must be followed by a `:` for your function to be defined correctly."
     ]
    },
    {
     "cell_type": "markdown",
     "metadata": {},
     "source": [
      "At any point in the future, you can now call this function just like any of the built-in functions that we've worked with so far (e.g., ``float``, ``int``, or ``len``)."
     ]
    },
    {
     "cell_type": "code",
     "collapsed": false,
     "input": [
      "print cube(3)"
     ],
     "language": "python",
     "metadata": {},
     "outputs": [
      {
       "output_type": "stream",
       "stream": "stdout",
       "text": [
        "27\n"
       ]
      }
     ],
     "prompt_number": 3
    },
    {
     "cell_type": "code",
     "collapsed": false,
     "input": [
      "z = 4\n",
      "y = cube(z)\n",
      "print y"
     ],
     "language": "python",
     "metadata": {},
     "outputs": [
      {
       "output_type": "stream",
       "stream": "stdout",
       "text": [
        "64\n"
       ]
      }
     ],
     "prompt_number": 4
    },
    {
     "cell_type": "code",
     "collapsed": false,
     "input": [
      "for e in range(10):\n",
      "    print e, cube(e)"
     ],
     "language": "python",
     "metadata": {},
     "outputs": [
      {
       "output_type": "stream",
       "stream": "stdout",
       "text": [
        "0 0\n",
        "1 1\n",
        "2 8\n",
        "3 27\n",
        "4 64\n",
        "5 125\n",
        "6 216\n",
        "7 343\n",
        "8 512\n",
        "9 729\n"
       ]
      }
     ],
     "prompt_number": 5
    },
    {
     "cell_type": "markdown",
     "metadata": {},
     "source": [
      "An example of a useful function in bioinformatics would be one that computes the GC content of a sequence. We could define this as follows:"
     ]
    },
    {
     "cell_type": "code",
     "collapsed": false,
     "input": [
      "def gc_content(sequence):\n",
      "    result = (sequence.count('G') + sequence.count('C')) / len(sequence)\n",
      "    return round(result, 3)"
     ],
     "language": "python",
     "metadata": {},
     "outputs": [],
     "prompt_number": 6
    },
    {
     "cell_type": "code",
     "collapsed": false,
     "input": [
      "print gc_content('ACCGAGCATGGAGACGTAC')\n",
      "print gc_content('ACCGACGTTAGAGTAGACGTGGTTGGA')"
     ],
     "language": "python",
     "metadata": {},
     "outputs": [
      {
       "output_type": "stream",
       "stream": "stdout",
       "text": [
        "0.579\n",
        "0.519\n"
       ]
      }
     ],
     "prompt_number": 7
    },
    {
     "cell_type": "markdown",
     "metadata": {},
     "source": [
      "To begin to illustrate how useful functions can be, imagine we wanted to define a general function that would allow us to count the occurence of multiple different individual characters in a sequence. We could call this function ``count_multi``."
     ]
    },
    {
     "cell_type": "code",
     "collapsed": false,
     "input": [
      "def count_multi(sequence, characters):\n",
      "    total_count = 0\n",
      "    for character in characters:\n",
      "        # total_count = total_count + sequence.count(character)\n",
      "        total_count += sequence.count(character)\n",
      "    return total_count"
     ],
     "language": "python",
     "metadata": {},
     "outputs": [],
     "prompt_number": 8
    },
    {
     "cell_type": "code",
     "collapsed": false,
     "input": [
      "print count_multi(\"ACCGAGCATGGAGACGTAC\", \"GC\")"
     ],
     "language": "python",
     "metadata": {},
     "outputs": [
      {
       "output_type": "stream",
       "stream": "stdout",
       "text": [
        "11\n"
       ]
      }
     ],
     "prompt_number": 9
    },
    {
     "cell_type": "markdown",
     "metadata": {},
     "source": [
      "We could then call that function from another function that we define, which would let us compute the fraction of a sequence that is one of several charaters:"
     ]
    },
    {
     "cell_type": "code",
     "collapsed": false,
     "input": [
      "def fraction_multi(sequence, characters):\n",
      "    return count_multi(sequence, characters) / len(sequence)"
     ],
     "language": "python",
     "metadata": {},
     "outputs": [],
     "prompt_number": 10
    },
    {
     "cell_type": "code",
     "collapsed": false,
     "input": [
      "sequence = \"CCGACACACACA\"\n",
      "\n",
      "print fraction_multi(sequence, \"GC\")\n",
      "print fraction_multi(sequence, \"AT\")\n",
      "print fraction_multi(sequence, \"A\")\n",
      "print fraction_multi(sequence, \"T\")"
     ],
     "language": "python",
     "metadata": {},
     "outputs": [
      {
       "output_type": "stream",
       "stream": "stdout",
       "text": [
        "0.583333333333\n",
        "0.416666666667\n",
        "0.416666666667\n",
        "0.0\n"
       ]
      }
     ],
     "prompt_number": 11
    },
    {
     "cell_type": "markdown",
     "metadata": {},
     "source": [
      "And then we could define additional \"special case functions\", which give us the fraction of a particular set of characters that we're interested in. This is a different way of defining our previous ``gc_content`` function, using other functions that we've defined."
     ]
    },
    {
     "cell_type": "code",
     "collapsed": false,
     "input": [
      "def fraction_gc(sequence):\n",
      "    return fraction_multi(sequence, 'GC')"
     ],
     "language": "python",
     "metadata": {},
     "outputs": [],
     "prompt_number": 12
    },
    {
     "cell_type": "code",
     "collapsed": false,
     "input": [
      "fraction_gc(sequence)"
     ],
     "language": "python",
     "metadata": {},
     "outputs": [
      {
       "metadata": {},
       "output_type": "pyout",
       "prompt_number": 13,
       "text": [
        "0.5833333333333334"
       ]
      }
     ],
     "prompt_number": 13
    },
    {
     "cell_type": "markdown",
     "metadata": {},
     "source": [
      "It's then very convenient to use that function through-out our code. For example, we could compute the GC content of each sequence in a list using a `for` loop:"
     ]
    },
    {
     "cell_type": "code",
     "collapsed": false,
     "input": [
      "sequences = ['ACCAG', 'CCAGAACA', 'CCGACACACACA']\n",
      "for sequence in sequences:\n",
      "    print fraction_gc(sequence)"
     ],
     "language": "python",
     "metadata": {},
     "outputs": [
      {
       "output_type": "stream",
       "stream": "stdout",
       "text": [
        "0.6\n",
        "0.5\n",
        "0.583333333333\n"
       ]
      }
     ],
     "prompt_number": 14
    },
    {
     "cell_type": "markdown",
     "metadata": {},
     "source": [
      "Let's define a few other functions to look at some variations:\n",
      "\n",
      "This first function returns the absolute value of the difference of two numbers ``x`` and ``y``, which could be thought of as the distance between two points on a number line."
     ]
    },
    {
     "cell_type": "code",
     "collapsed": true,
     "input": [
      "def dist(x,y):\n",
      "    return abs(x - y)"
     ],
     "language": "python",
     "metadata": {},
     "outputs": [],
     "prompt_number": 15
    },
    {
     "cell_type": "code",
     "collapsed": false,
     "input": [
      "dist(-2,10)"
     ],
     "language": "python",
     "metadata": {},
     "outputs": [
      {
       "metadata": {},
       "output_type": "pyout",
       "prompt_number": 16,
       "text": [
        "12"
       ]
      }
     ],
     "prompt_number": 16
    },
    {
     "cell_type": "markdown",
     "metadata": {},
     "source": [
      "This function returns that distance, as well as the cube of that distance. Notice how this function calls other functions that we've defined."
     ]
    },
    {
     "cell_type": "code",
     "collapsed": false,
     "input": [
      "def dist_and_cubed_dist(x,y):\n",
      "    dist_xy = dist(x,y)\n",
      "    return dist_xy, cube(dist_xy)"
     ],
     "language": "python",
     "metadata": {},
     "outputs": [],
     "prompt_number": 17
    },
    {
     "cell_type": "code",
     "collapsed": false,
     "input": [
      "dist_and_cubed_dist(42, 35)"
     ],
     "language": "python",
     "metadata": {},
     "outputs": [
      {
       "metadata": {},
       "output_type": "pyout",
       "prompt_number": 18,
       "text": [
        "(7, 343)"
       ]
      }
     ],
     "prompt_number": 18
    },
    {
     "cell_type": "markdown",
     "metadata": {},
     "source": [
      "Why do you think I'm defining the ``dist_xy`` variable here, rather than just calling ``dist`` twice in the return statement?"
     ]
    },
    {
     "cell_type": "markdown",
     "metadata": {},
     "source": [
      "**Another look at nested for loops.**\n",
      "\n",
      "Let's now define a nested for loop that builds a distance matrix from a list of numbers using the ``dist`` function we defined above."
     ]
    },
    {
     "cell_type": "code",
     "collapsed": true,
     "input": [
      "l1 = [1,5,33,42,66,-98]"
     ],
     "language": "python",
     "metadata": {},
     "outputs": [],
     "prompt_number": 19
    },
    {
     "cell_type": "code",
     "collapsed": false,
     "input": [
      "for i in l1:\n",
      "    for j in l1:\n",
      "        print dist(i,j),\n",
      "    print \"\""
     ],
     "language": "python",
     "metadata": {},
     "outputs": [
      {
       "output_type": "stream",
       "stream": "stdout",
       "text": [
        "0 4 32 41 65 99 \n",
        "4 0 28 37 61 103 \n",
        "32 28 0 9 33 131 \n",
        "41 37 9 0 24 140 \n",
        "65 61 33 24 0 164 \n",
        "99 103 131 140 164 0 \n"
       ]
      }
     ],
     "prompt_number": 20
    },
    {
     "cell_type": "markdown",
     "metadata": {},
     "source": [
      "We can even get a little fancier with our printing to print these data in a fixed-width format. For everything you ever wanted to know about string formatting, see Learn Python the Hard Way."
     ]
    },
    {
     "cell_type": "code",
     "collapsed": false,
     "input": [
      "for i in l1:\n",
      "    for j in l1:\n",
      "        print \"%4s\" % str(dist(i,j)),\n",
      "    print \"\""
     ],
     "language": "python",
     "metadata": {},
     "outputs": [
      {
       "output_type": "stream",
       "stream": "stdout",
       "text": [
        "   0    4   32   41   65   99 \n",
        "   4    0   28   37   61  103 \n",
        "  32   28    0    9   33  131 \n",
        "  41   37    9    0   24  140 \n",
        "  65   61   33   24    0  164 \n",
        "  99  103  131  140  164    0 \n"
       ]
      }
     ],
     "prompt_number": 21
    },
    {
     "cell_type": "heading",
     "level": 2,
     "metadata": {},
     "source": [
      "Exercise 1: functions for reverse complementing and translating nucleotide sequences."
     ]
    },
    {
     "cell_type": "markdown",
     "metadata": {},
     "source": [
      "We're now at the point where we can start building some more complex functionality in python. In the next cells, I define a basic method for translating a DNA sequence."
     ]
    },
    {
     "cell_type": "code",
     "collapsed": false,
     "input": [
      "gc = {'CTT': 'L', 'ACA': 'T', 'ACG': 'T', 'ATC': 'I', 'AAC': 'N',\n",
      "      'ATA': 'I', 'AGG': 'R', 'CCT': 'P', 'ACT': 'T', 'AGC': 'S', 'AAG': 'K',\n",
      "      'AGA': 'R', 'CAT': 'H', 'AAT': 'N', 'ATT': 'I', 'CTG': 'L', 'CTA': 'L',\n",
      "      'CTC': 'L', 'CAC': 'H', 'AAA': 'K', 'CCG': 'P', 'AGT': 'S', 'CCA': 'P',\n",
      "      'CAA': 'Q', 'CCC': 'P', 'TAT': 'Y', 'GGT': 'G', 'TGT': 'C', 'CGA': 'R',\n",
      "      'CAG': 'Q', 'TCT': 'S', 'GAT': 'D', 'CGG': 'R', 'TTT': 'F', 'TGC': 'C',\n",
      "      'GGG': 'G', 'GGA': 'G', 'TGG': 'W', 'GGC': 'G', 'TAC': 'Y',\n",
      "      'TTC': 'F', 'TCG': 'S', 'TTA': 'L', 'TTG': 'L', 'TCC': 'S', 'ACC': 'T',\n",
      "       'GCA': 'A', 'GTA': 'V', 'GCC': 'A', 'GTC': 'V', 'GCG': 'A','TAA': '*',\n",
      "      'GTG': 'V', 'GAG': 'E', 'GTT': 'V', 'GCT': 'A', 'GAC': 'D', 'CGT': 'R',\n",
      "      'GAA': 'E', 'TCA': 'S', 'ATG': 'M', 'CGC': 'R', 'TAG': '*', 'TGA': '*'}\n",
      "\n",
      "dna_comp = {'A':'T', 'T':'A', 'C':'G', 'G':'C'}\n",
      "\n",
      "seq = \"ACCGTCGGATTACCGAAGGAAAT\""
     ],
     "language": "python",
     "metadata": {},
     "outputs": [],
     "prompt_number": 22
    },
    {
     "cell_type": "code",
     "collapsed": false,
     "input": [
      "print gc['TCA']\n",
      "print gc['TGA']"
     ],
     "language": "python",
     "metadata": {},
     "outputs": [
      {
       "output_type": "stream",
       "stream": "stdout",
       "text": [
        "S\n",
        "*\n"
       ]
      }
     ],
     "prompt_number": 23
    },
    {
     "cell_type": "markdown",
     "metadata": {},
     "source": [
      "First, let's review how to iterate over a sequence to build a new sequence. We'll do this to complement and reverse complement `seq`. "
     ]
    },
    {
     "cell_type": "code",
     "collapsed": false,
     "input": [
      "seq_comp = \"\"\n",
      "for base in seq:\n",
      "    # the following line is a shortcut for \n",
      "    # seq_comp = seq_comp + dna_comp[base]\n",
      "    seq_comp += dna_comp[base]\n",
      "print seq_comp\n",
      "\n",
      "rev_seq_comp = \"\"\n",
      "for base in seq[::-1]:\n",
      "    rev_seq_comp += dna_comp[base]\n",
      "print rev_seq_comp"
     ],
     "language": "python",
     "metadata": {},
     "outputs": [
      {
       "output_type": "stream",
       "stream": "stdout",
       "text": [
        "TGGCAGCCTAATGGCTTCCTTTA\n",
        "ATTTCCTTCGGTAATCCGACGGT\n"
       ]
      }
     ],
     "prompt_number": 24
    },
    {
     "cell_type": "markdown",
     "metadata": {},
     "source": [
      "Now we'll ge a little more complicated by translating a sequence, rather than computing its complement. The idea is the same, but the steps are a little bit different."
     ]
    },
    {
     "cell_type": "code",
     "collapsed": false,
     "input": [
      "protein_seq = \"\"\n",
      "for e in range(0,len(seq),3):\n",
      "    if e+2 >= len(seq):\n",
      "        break\n",
      "    else:\n",
      "        codon = seq[e] + seq[e+1] + seq[e+2]\n",
      "        aa = gc[codon]\n",
      "        protein_seq += aa\n",
      "print protein_seq"
     ],
     "language": "python",
     "metadata": {},
     "outputs": [
      {
       "output_type": "stream",
       "stream": "stdout",
       "text": [
        "TVGLPKE\n"
       ]
      }
     ],
     "prompt_number": 25
    },
    {
     "cell_type": "markdown",
     "metadata": {},
     "source": [
      "And finally, we can define a function to do this. To define a function, we need to know a few things: \n",
      "\n",
      "1. What does it need to do (we figured that out in the previous cell)?\n",
      "2. What should we call it (its function should be clear from its name)?\n",
      "3. What does it take as input?\n",
      "4. What does it return as output?\n",
      "\n",
      "For our purposes here, `translate` seems like a pretty logical name. Our translate function will take two inputs, the sequence to translate and a genetic code, and will return a single output, the translated protein sequence. We can define this as follows:"
     ]
    },
    {
     "cell_type": "code",
     "collapsed": false,
     "input": [
      "def translate(sequence, genetic_code):\n",
      "    protein_seq = \"\"\n",
      "    for e in range(0,len(sequence),3):\n",
      "        if e+2 >= len(sequence):\n",
      "            break\n",
      "        else:\n",
      "            codon = sequence[e] + sequence[e+1] + sequence[e+2]\n",
      "            aa = genetic_code[codon]\n",
      "            protein_seq += aa\n",
      "    return protein_seq"
     ],
     "language": "python",
     "metadata": {},
     "outputs": [],
     "prompt_number": 26
    },
    {
     "cell_type": "markdown",
     "metadata": {},
     "source": [
      "Importantly, notice that the names for our inputs don't need to match existing variable names. These are how the function will refer to the values that are passed in internally."
     ]
    },
    {
     "cell_type": "code",
     "collapsed": false,
     "input": [
      "p = translate(\"ACCGTTGACCAGGTTGACCGGTAC\", gc)\n",
      "print p"
     ],
     "language": "python",
     "metadata": {},
     "outputs": [
      {
       "output_type": "stream",
       "stream": "stdout",
       "text": [
        "TVDQVDRY\n"
       ]
      }
     ],
     "prompt_number": 27
    },
    {
     "cell_type": "markdown",
     "metadata": {},
     "source": [
      "Now, try a few exercises on your own:\n",
      "\n",
      "1. Define a ``reverse_complement`` function which takes a DNA sequence and returns its reverse complement.\n",
      "3. Adapt the ``translate`` function to have it terminate translation at a stop codon.\n",
      "4. Adapt the ``translate`` to start translation only when it hits a start codon."
     ]
    },
    {
     "cell_type": "code",
     "collapsed": false,
     "input": [],
     "language": "python",
     "metadata": {},
     "outputs": [],
     "prompt_number": 27
    }
   ],
   "metadata": {}
  }
 ]
}