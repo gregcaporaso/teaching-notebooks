{
 "metadata": {
  "name": ""
 },
 "nbformat": 3,
 "nbformat_minor": 0,
 "worksheets": [
  {
   "cells": [
    {
     "cell_type": "markdown",
     "metadata": {},
     "source": [
      "**Important**: see discussion on the intentions for these materials in the [overview notebook](http://nbviewer.ipython.org/github/gregcaporaso/An-Introduction-To-Applied-Bioinformatics/blob/master/programming-and-se/0-overview.ipynb) for this chapter."
     ]
    },
    {
     "cell_type": "heading",
     "level": 1,
     "metadata": {},
     "source": [
      "Working with python's built-in modules"
     ]
    },
    {
     "cell_type": "markdown",
     "metadata": {},
     "source": [
      "Next we'll jump to chapter 12 of *Practical Computing for Biologists* and look at some of the built-in functions and objects that come with python. These are referred to as modules or libraries, and collectively are the [Python Standard Library](http://docs.python.org/2/library/index.html). An excellent source for discussion of what's in the Python Standard Library, and how to use it, is Doug Hellman's [Python Module of the Week](http://pymotw.com/2/) blog. \n",
      "\n",
      "To access code in an existing module we use the ``import`` statement. You can browse the built-in modules on the python website in Sections 7 - 40 of [this page](http://docs.python.org/2/library/)."
     ]
    },
    {
     "cell_type": "heading",
     "level": 2,
     "metadata": {},
     "source": [
      "The ``random`` module"
     ]
    },
    {
     "cell_type": "markdown",
     "metadata": {},
     "source": [
      "First let's take a look at [the ``random`` module](http://docs.python.org/2/library/random.html), which is used for generating pseudo-random numbers. To access the functions in random we can do the following:"
     ]
    },
    {
     "cell_type": "code",
     "collapsed": true,
     "input": [
      "import random"
     ],
     "language": "python",
     "metadata": {},
     "outputs": [],
     "prompt_number": 1
    },
    {
     "cell_type": "markdown",
     "metadata": {},
     "source": [
      "We can now use ``dir`` to see what functions are available."
     ]
    },
    {
     "cell_type": "code",
     "collapsed": false,
     "input": [
      "dir(random)"
     ],
     "language": "python",
     "metadata": {},
     "outputs": [
      {
       "metadata": {},
       "output_type": "pyout",
       "prompt_number": 2,
       "text": [
        "['BPF',\n",
        " 'LOG4',\n",
        " 'NV_MAGICCONST',\n",
        " 'RECIP_BPF',\n",
        " 'Random',\n",
        " 'SG_MAGICCONST',\n",
        " 'SystemRandom',\n",
        " 'TWOPI',\n",
        " 'WichmannHill',\n",
        " '_BuiltinMethodType',\n",
        " '_MethodType',\n",
        " '__all__',\n",
        " '__builtins__',\n",
        " '__doc__',\n",
        " '__file__',\n",
        " '__name__',\n",
        " '__package__',\n",
        " '_acos',\n",
        " '_ceil',\n",
        " '_cos',\n",
        " '_e',\n",
        " '_exp',\n",
        " '_hashlib',\n",
        " '_hexlify',\n",
        " '_inst',\n",
        " '_log',\n",
        " '_pi',\n",
        " '_random',\n",
        " '_sin',\n",
        " '_sqrt',\n",
        " '_test',\n",
        " '_test_generator',\n",
        " '_urandom',\n",
        " '_warn',\n",
        " 'betavariate',\n",
        " 'choice',\n",
        " 'division',\n",
        " 'expovariate',\n",
        " 'gammavariate',\n",
        " 'gauss',\n",
        " 'getrandbits',\n",
        " 'getstate',\n",
        " 'jumpahead',\n",
        " 'lognormvariate',\n",
        " 'normalvariate',\n",
        " 'paretovariate',\n",
        " 'randint',\n",
        " 'random',\n",
        " 'randrange',\n",
        " 'sample',\n",
        " 'seed',\n",
        " 'setstate',\n",
        " 'shuffle',\n",
        " 'triangular',\n",
        " 'uniform',\n",
        " 'vonmisesvariate',\n",
        " 'weibullvariate']"
       ]
      }
     ],
     "prompt_number": 2
    },
    {
     "cell_type": "markdown",
     "metadata": {},
     "source": [
      "The ones I use most here are ``choice``, ``random``, and ``shuffle``. After calling ``import random`` you can access these as ``random.choice``, ``random.random``, and ``random.shuffle``. Remember that you can call ``help`` to find out what a python function does - give that a try."
     ]
    },
    {
     "cell_type": "code",
     "collapsed": false,
     "input": [
      "help(random.shuffle)"
     ],
     "language": "python",
     "metadata": {},
     "outputs": [
      {
       "output_type": "stream",
       "stream": "stdout",
       "text": [
        "Help on method shuffle in module random:\n",
        "\n",
        "shuffle(self, x, random=None, int=<type 'int'>) method of random.Random instance\n",
        "    x, random=random.random -> shuffle list x in place; return None.\n",
        "    \n",
        "    Optional arg random is a 0-argument function returning a random\n",
        "    float in [0.0, 1.0); by default, the standard random.random.\n",
        "\n"
       ]
      }
     ],
     "prompt_number": 3
    },
    {
     "cell_type": "markdown",
     "metadata": {},
     "source": [
      "Let's try it out:"
     ]
    },
    {
     "cell_type": "code",
     "collapsed": false,
     "input": [
      "l = range(100)\n",
      "print l\n",
      "random.shuffle(l)\n",
      "print l"
     ],
     "language": "python",
     "metadata": {},
     "outputs": [
      {
       "output_type": "stream",
       "stream": "stdout",
       "text": [
        "[0, 1, 2, 3, 4, 5, 6, 7, 8, 9, 10, 11, 12, 13, 14, 15, 16, 17, 18, 19, 20, 21, 22, 23, 24, 25, 26, 27, 28, 29, 30, 31, 32, 33, 34, 35, 36, 37, 38, 39, 40, 41, 42, 43, 44, 45, 46, 47, 48, 49, 50, 51, 52, 53, 54, 55, 56, 57, 58, 59, 60, 61, 62, 63, 64, 65, 66, 67, 68, 69, 70, 71, 72, 73, 74, 75, 76, 77, 78, 79, 80, 81, 82, 83, 84, 85, 86, 87, 88, 89, 90, 91, 92, 93, 94, 95, 96, 97, 98, 99]\n",
        "[31, 90, 80, 98, 38, 1, 74, 20, 5, 79, 27, 6, 67, 14, 45, 61, 11, 16, 63, 71, 66, 89, 62, 37, 52, 46, 68, 51, 0, 19, 47, 34, 82, 58, 91, 17, 42, 54, 43, 18, 86, 95, 72, 60, 53, 93, 33, 84, 22, 30, 39, 64, 70, 8, 85, 57, 75, 99, 28, 15, 3, 4, 48, 83, 26, 78, 81, 97, 32, 69, 23, 88, 77, 2, 59, 92, 9, 55, 87, 73, 7, 40, 50, 25, 44, 49, 96, 65, 10, 13, 35, 36, 56, 94, 41, 12, 29, 21, 24, 76]\n"
       ]
      }
     ],
     "prompt_number": 4
    },
    {
     "cell_type": "markdown",
     "metadata": {},
     "source": [
      "Notice that if you call this different times you'll get different results."
     ]
    },
    {
     "cell_type": "code",
     "collapsed": false,
     "input": [
      "random.shuffle(l)\n",
      "print l\n",
      "random.shuffle(l)\n",
      "print l\n",
      "random.shuffle(l)\n",
      "print l\n",
      "random.shuffle(l)\n",
      "print l\n",
      "random.shuffle(l)\n",
      "print l"
     ],
     "language": "python",
     "metadata": {},
     "outputs": [
      {
       "output_type": "stream",
       "stream": "stdout",
       "text": [
        "[17, 83, 64, 21, 6, 4, 25, 87, 62, 8, 50, 49, 81, 41, 75, 84, 47, 3, 37, 10, 76, 23, 26, 94, 32, 90, 39, 24, 19, 59, 63, 52, 58, 51, 71, 2, 1, 7, 45, 34, 95, 30, 14, 0, 74, 77, 42, 55, 5, 54, 65, 98, 97, 67, 48, 89, 16, 85, 69, 40, 46, 28, 56, 20, 22, 44, 38, 53, 72, 33, 31, 68, 11, 88, 91, 15, 60, 18, 92, 82, 13, 86, 80, 73, 93, 61, 70, 35, 43, 78, 36, 99, 27, 66, 96, 29, 57, 9, 79, 12]\n",
        "[40, 43, 5, 54, 57, 12, 77, 80, 94, 87, 11, 78, 37, 95, 47, 86, 35, 14, 45, 65, 7, 89, 85, 20, 44, 66, 17, 92, 64, 53, 90, 39, 50, 3, 22, 97, 19, 84, 56, 51, 91, 24, 71, 49, 13, 4, 9, 74, 48, 34, 76, 60, 99, 27, 15, 2, 82, 83, 46, 68, 58, 61, 70, 42, 33, 69, 52, 8, 10, 62, 16, 26, 36, 73, 59, 93, 96, 75, 23, 25, 55, 30, 28, 1, 98, 6, 38, 21, 29, 72, 63, 0, 88, 79, 18, 31, 67, 81, 32, 41]\n",
        "[97, 49, 58, 8, 81, 23, 73, 20, 65, 76, 13, 82, 75, 10, 12, 95, 4, 3, 14, 60, 63, 74, 9, 43, 37, 28, 1, 70, 64, 46, 27, 55, 0, 38, 18, 72, 29, 34, 98, 56, 78, 71, 15, 69, 96, 93, 89, 42, 48, 87, 54, 61, 17, 50, 77, 79, 45, 44, 2, 80, 21, 30, 31, 33, 53, 32, 52, 57, 92, 66, 51, 90, 84, 35, 99, 19, 16, 62, 91, 24, 83, 26, 88, 68, 47, 41, 39, 94, 22, 11, 86, 85, 59, 67, 6, 25, 7, 5, 36, 40]\n",
        "[1, 0, 31, 22, 67, 5, 4, 2, 38, 3, 8, 86, 66, 39, 11, 28, 30, 97, 13, 68, 88, 72, 37, 35, 40, 63, 16, 77, 6, 55, 74, 92, 96, 21, 60, 81, 52, 41, 54, 17, 51, 58, 83, 12, 26, 34, 85, 9, 76, 27, 75, 94, 45, 20, 64, 29, 59, 99, 50, 18, 93, 84, 49, 71, 98, 57, 42, 46, 95, 56, 91, 48, 80, 73, 43, 69, 89, 15, 53, 19, 44, 24, 87, 33, 36, 65, 61, 70, 32, 47, 90, 7, 23, 62, 79, 78, 14, 82, 25, 10]\n",
        "[99, 10, 83, 67, 45, 24, 22, 39, 34, 98, 6, 13, 76, 80, 19, 74, 75, 44, 49, 4, 37, 38, 40, 46, 73, 87, 47, 41, 71, 56, 8, 42, 92, 59, 50, 70, 30, 36, 57, 95, 53, 54, 5, 16, 86, 23, 88, 7, 52, 27, 33, 35, 21, 64, 17, 65, 29, 91, 72, 84, 94, 32, 61, 81, 18, 78, 9, 55, 93, 69, 2, 48, 89, 90, 31, 79, 20, 68, 43, 60, 66, 11, 51, 25, 97, 85, 63, 77, 26, 58, 15, 0, 12, 82, 62, 96, 3, 14, 28, 1]\n"
       ]
      }
     ],
     "prompt_number": 5
    },
    {
     "cell_type": "markdown",
     "metadata": {},
     "source": [
      "``random.choice`` is another extremely useful function. This returns an element at random from a list, so is useful for subsampling with replacement."
     ]
    },
    {
     "cell_type": "code",
     "collapsed": false,
     "input": [
      "print random.choice(l)\n",
      "print random.choice(l)\n",
      "print random.choice(l)\n",
      "print random.choice(l)"
     ],
     "language": "python",
     "metadata": {},
     "outputs": [
      {
       "output_type": "stream",
       "stream": "stdout",
       "text": [
        "30\n",
        "40\n",
        "77\n",
        "63\n"
       ]
      }
     ],
     "prompt_number": 6
    },
    {
     "cell_type": "markdown",
     "metadata": {},
     "source": [
      "In general, you don't want to import all of the functions in a module, but rather only the ones you want to use. This is important because import too many modules can make your program bulkier as references will need to be stored for all of the functions in memory. Instead, you should use ``from`` with ``import`` to only import specific functions. For example:"
     ]
    },
    {
     "cell_type": "code",
     "collapsed": true,
     "input": [
      "from random import choice"
     ],
     "language": "python",
     "metadata": {},
     "outputs": [],
     "prompt_number": 7
    },
    {
     "cell_type": "markdown",
     "metadata": {},
     "source": [
      "Or, to import several at once:"
     ]
    },
    {
     "cell_type": "code",
     "collapsed": true,
     "input": [
      "from random import (choice, shuffle)"
     ],
     "language": "python",
     "metadata": {},
     "outputs": [],
     "prompt_number": 8
    },
    {
     "cell_type": "markdown",
     "metadata": {},
     "source": [
      "When you import in this way, you access these functions only by their name, not prefixed with ``random.``"
     ]
    },
    {
     "cell_type": "code",
     "collapsed": false,
     "input": [
      "l = range(100)\n",
      "print choice(l)\n",
      "print choice(l)"
     ],
     "language": "python",
     "metadata": {},
     "outputs": [
      {
       "output_type": "stream",
       "stream": "stdout",
       "text": [
        "66\n",
        "36\n"
       ]
      }
     ],
     "prompt_number": 9
    },
    {
     "cell_type": "code",
     "collapsed": false,
     "input": [
      "shuffle(l)\n",
      "print l\n",
      "shuffle(l)\n",
      "print l"
     ],
     "language": "python",
     "metadata": {},
     "outputs": [
      {
       "output_type": "stream",
       "stream": "stdout",
       "text": [
        "[94, 59, 19, 12, 93, 49, 73, 81, 69, 85, 74, 11, 50, 52, 35, 17, 84, 5, 20, 21, 58, 24, 96, 2, 76, 86, 41, 68, 92, 75, 83, 88, 97, 61, 65, 95, 82, 39, 51, 27, 66, 55, 25, 79, 1, 90, 31, 9, 44, 64, 67, 72, 56, 16, 71, 57, 23, 10, 0, 43, 26, 53, 4, 48, 13, 32, 54, 28, 80, 14, 8, 63, 47, 89, 30, 87, 62, 77, 99, 37, 33, 15, 42, 29, 3, 60, 7, 22, 6, 91, 34, 36, 78, 46, 98, 40, 38, 45, 18, 70]\n",
        "[22, 23, 16, 50, 82, 49, 29, 51, 69, 2, 90, 3, 93, 61, 71, 36, 42, 31, 72, 12, 64, 67, 74, 59, 84, 83, 10, 98, 66, 46, 30, 78, 43, 41, 1, 37, 97, 28, 9, 57, 11, 60, 40, 24, 33, 63, 58, 65, 89, 52, 81, 38, 54, 77, 96, 5, 76, 0, 99, 53, 56, 68, 27, 6, 48, 91, 79, 19, 39, 92, 95, 8, 87, 14, 75, 17, 18, 70, 25, 26, 86, 55, 35, 73, 15, 13, 7, 44, 20, 47, 94, 32, 62, 34, 45, 88, 80, 21, 85, 4]\n"
       ]
      }
     ],
     "prompt_number": 10
    },
    {
     "cell_type": "heading",
     "level": 2,
     "metadata": {},
     "source": [
      "The ``time`` module"
     ]
    },
    {
     "cell_type": "markdown",
     "metadata": {},
     "source": [
      "Next let's look at some other modules. ``time`` is very useful for timing how long some code takes to execute. The function of interest for that is called ``time`` (so the function has the same name as the module."
     ]
    },
    {
     "cell_type": "code",
     "collapsed": false,
     "input": [
      "from time import time\n",
      "help(time)"
     ],
     "language": "python",
     "metadata": {},
     "outputs": [
      {
       "output_type": "stream",
       "stream": "stdout",
       "text": [
        "Help on built-in function time in module time:\n",
        "\n",
        "time(...)\n",
        "    time() -> floating point number\n",
        "    \n",
        "    Return the current time in seconds since the Epoch.\n",
        "    Fractions of a second may be present if the system clock provides them.\n",
        "\n"
       ]
      }
     ],
     "prompt_number": 11
    },
    {
     "cell_type": "markdown",
     "metadata": {},
     "source": [
      "This function returns the number of seconds since the [Epoch](http://en.wikipedia.org/wiki/Epoch_(reference_date)) which most often refers to January 1, 1970."
     ]
    },
    {
     "cell_type": "code",
     "collapsed": false,
     "input": [
      "time()"
     ],
     "language": "python",
     "metadata": {},
     "outputs": [
      {
       "metadata": {},
       "output_type": "pyout",
       "prompt_number": 12,
       "text": [
        "1395759915.549394"
       ]
      }
     ],
     "prompt_number": 12
    },
    {
     "cell_type": "code",
     "collapsed": false,
     "input": [
      "time()"
     ],
     "language": "python",
     "metadata": {},
     "outputs": [
      {
       "metadata": {},
       "output_type": "pyout",
       "prompt_number": 13,
       "text": [
        "1395759915.571287"
       ]
      }
     ],
     "prompt_number": 13
    },
    {
     "cell_type": "code",
     "collapsed": false,
     "input": [
      "time()"
     ],
     "language": "python",
     "metadata": {},
     "outputs": [
      {
       "metadata": {},
       "output_type": "pyout",
       "prompt_number": 14,
       "text": [
        "1395759915.592383"
       ]
      }
     ],
     "prompt_number": 14
    },
    {
     "cell_type": "markdown",
     "metadata": {},
     "source": [
      "So how can you use this to see how long some piece of code takes to run? First, let's grab another function from ``time`` called ``sleep``. Figure out what ``sleep`` does."
     ]
    },
    {
     "cell_type": "code",
     "collapsed": false,
     "input": [
      "from time import sleep\n",
      "help(sleep)"
     ],
     "language": "python",
     "metadata": {},
     "outputs": [
      {
       "output_type": "stream",
       "stream": "stdout",
       "text": [
        "Help on built-in function sleep in module time:\n",
        "\n",
        "sleep(...)\n",
        "    sleep(seconds)\n",
        "    \n",
        "    Delay execution for a given number of seconds.  The argument may be\n",
        "    a floating point number for subsecond precision.\n",
        "\n"
       ]
      }
     ],
     "prompt_number": 15
    },
    {
     "cell_type": "code",
     "collapsed": false,
     "input": [
      "start_time = time()\n",
      "sleep(5)\n",
      "end_time = time()\n",
      "run_time = end_time - start_time\n",
      "print \"The code took %1.3f seconds to run.\" % run_time"
     ],
     "language": "python",
     "metadata": {},
     "outputs": [
      {
       "output_type": "stream",
       "stream": "stdout",
       "text": [
        "The code took 5.001 seconds to run.\n"
       ]
      }
     ],
     "prompt_number": 16
    },
    {
     "cell_type": "heading",
     "level": 2,
     "metadata": {},
     "source": [
      "The ``urllib2`` and ``xml`` modules"
     ]
    },
    {
     "cell_type": "markdown",
     "metadata": {},
     "source": [
      "Sometimes you'll want to access webpages as if they're files, to extract information from them. Python's built-in [``urllib2``](http://docs.python.org/2/library/urllib2.html) module will help you do this. \n",
      "\n",
      "For example:"
     ]
    },
    {
     "cell_type": "code",
     "collapsed": false,
     "input": [
      "from urllib2 import urlopen\n",
      "w = urlopen(\"http://www.caporasolab.us\")"
     ],
     "language": "python",
     "metadata": {},
     "outputs": [],
     "prompt_number": 17
    },
    {
     "cell_type": "code",
     "collapsed": false,
     "input": [
      "print ''.join(w)"
     ],
     "language": "python",
     "metadata": {},
     "outputs": [
      {
       "output_type": "stream",
       "stream": "stdout",
       "text": [
        "<!doctype html>\n",
        "<!--[if lt IE 7]><html class=\"no-js lt-ie9 lt-ie8 lt-ie7\" lang=\"en\"> <![endif]-->\n",
        "<!--[if (IE 7)&!(IEMobile)]><html class=\"no-js lt-ie9 lt-ie8\" lang=\"en\"><![endif]-->\n",
        "<!--[if (IE 8)&!(IEMobile)]><html class=\"no-js lt-ie9\" lang=\"en\"><![endif]-->\n",
        "<!--[if gt IE 8]><!--> <html class=\"no-js\" lang=\"en\"><!--<![endif]-->\n",
        "<head>\n",
        "<meta charset=\"utf-8\">\n",
        "<title>Caporaso Lab</title>\n",
        "<meta name=\"description\" content=\"A simple and clean responsive Jekyll theme for words and photos.\">\n",
        "<meta name=\"keywords\" content=\"Jekyll, theme, themes, responsive, blog, minimalism\">\n",
        "<!-- Twitter Card and Open Graph tags -->\n",
        "<meta name=\"twitter:title\" content=\"Caporaso Lab\">\n",
        "<meta name=\"twitter:description\" content=\"A simple and clean responsive Jekyll theme for words and photos.\">\n",
        "<meta name=\"twitter:creator\" content=\"@\">\n",
        "<meta name=\"twitter:card\" content=\"summary\">\n",
        "<meta name=\"twitter:image:src\" content=\"/images/site-logo.png\">\n",
        "<meta property=\"og:type\" content=\"article\">\n",
        "<meta property=\"og:title\" content=\"Caporaso Lab\">\n",
        "<meta property=\"og:description\" content=\"A simple and clean responsive Jekyll theme for words and photos.\">\n",
        "<meta property=\"og:url\" content=\"/index.html\">\n",
        "<meta property=\"og:site_name\" content=\"Caporaso Lab\">\n",
        "\n",
        "<!-- Webmaster Tools verfication -->\n",
        "\n",
        "\n",
        "\n",
        "\n",
        "<link rel=\"canonical\" href=\"/\">\n",
        "<link href=\"/feed.xml\" type=\"application/atom+xml\" rel=\"alternate\" title=\"Caporaso Lab Feed\">\n",
        "\n",
        "\n",
        "<!-- http://t.co/dKP3o1e -->\n",
        "<meta name=\"HandheldFriendly\" content=\"True\">\n",
        "<meta name=\"MobileOptimized\" content=\"320\">\n",
        "<meta name=\"viewport\" content=\"width=device-width, initial-scale=1.0\">\n",
        "\n",
        "<!-- Webfonts -->\n",
        "<script src=\"//use.edgefonts.net/source-sans-pro:n2,i2,n3,i3,n4,i4,n6,i6,n7,i7,n9,i9;source-code-pro:n4,n7;volkhov.js\"></script>\n",
        "<!-- For all browsers -->\n",
        "<link rel=\"stylesheet\" href=\"/assets/css/main.css\">\n",
        "<!-- Animations -->\n",
        "<link rel=\"stylesheet\" href=\"/assets/css/animate.css\">\n",
        "\n",
        "<meta http-equiv=\"cleartype\" content=\"on\">\n",
        "\n",
        "<!-- Load Modernizr -->\n",
        "<script src=\"/assets/js/vendor/modernizr-2.6.2.custom.min.js\"></script>\n",
        "\n",
        "<!-- Icons -->\n",
        "<!-- 16x16 -->\n",
        "<link rel=\"shortcut icon\" href=\"/favicon.ico\">\n",
        "<!-- 32x32 -->\n",
        "<link rel=\"shortcut icon\" href=\"/favicon.png\">\n",
        "<!-- 57x57 (precomposed) for iPhone 3GS, pre-2011 iPod Touch and older Android devices -->\n",
        "<link rel=\"apple-touch-icon-precomposed\" href=\"/images/apple-touch-icon-precomposed.png\">\n",
        "<!-- 72x72 (precomposed) for 1st generation iPad, iPad 2 and iPad mini -->\n",
        "<link rel=\"apple-touch-icon-precomposed\" sizes=\"72x72\" href=\"/images/apple-touch-icon-72x72-precomposed.png\">\n",
        "<!-- 114x114 (precomposed) for iPhone 4, 4S, 5 and post-2011 iPod Touch -->\n",
        "<link rel=\"apple-touch-icon-precomposed\" sizes=\"114x114\" href=\"/images/apple-touch-icon-114x114-precomposed.png\">\n",
        "<!-- 144x144 (precomposed) for iPad 3rd and 4th generation -->\n",
        "<link rel=\"apple-touch-icon-precomposed\" sizes=\"144x144\" href=\"/images/apple-touch-icon-144x144-precomposed.png\">\n",
        "\n",
        "\n",
        "<script src=\"/assets/js/pubmed.js\"></script>\n",
        "\n",
        "</head>\n",
        "\n",
        "<body id=\"page\" itemscope itemtype=\"http://schema.org/WebPage\">\n",
        "\n",
        "<!--[if lt IE 9]><div class=\"upgrade\"><strong><a href=\"http://whatbrowser.org/\">Your browser is quite old!</strong> Why not upgrade to a different browser to better enjoy this site?</a></div><![endif]-->\n",
        "<div id=\"heading\"><h1><a href=\"/\">Caporaso Lab</a></h1></div>\n",
        "<div class=\"navigation-wrapper\">\n",
        "\t<nav role=\"navigation\" id=\"site-nav\" itemscope itemtype=\"http://schema.org/SiteNavigationElement\">\n",
        "\t    <ul>\n",
        "\t        \n",
        "\t\t\t<li><a href=\"/\" >Home</a></li>\n",
        "\t        \n",
        "\t\t\t<li><a href=\"/people\" >People</a></li>\n",
        "\t        \n",
        "\t\t\t<li><a href=\"/projects\" >Projects</a></li>\n",
        "\t        \n",
        "\t\t\t<li><a href=\"/software\" >Software</a></li>\n",
        "\t        \n",
        "\t\t\t<li><a href=\"/publications\" >Publications</a></li>\n",
        "\t        \n",
        "\t\t\t<li><a href=\"/contact\" >Contact</a></li>\n",
        "\t        \n",
        "\t        \n",
        "\t    </ul>\n",
        "\t</nav>\n",
        "</div><!-- /.navigation-wrapper -->\n",
        "\n",
        "\n",
        "\n",
        "<div id=\"main\" role=\"main\" itemprop=\"mainContentOfPage\" itemscope itemtype=\"http://schema.org/Blog\">\n",
        "  <article class=\"hentry\" itemscope itemtype=\"http://schema.org/BlogPosting\" itemprop=\"blogpost\">\n",
        "    \n",
        "    <div class=\"entry-wrapper\">\n",
        "      <header class=\"entry-header\">\n",
        "        <h1 class=\"entry-title\" itemprop=\"headline\"></h1>\n",
        "      </header>\n",
        "      <div class=\"entry-content\">\n",
        "        <table>\n",
        "\t<tr>\n",
        "\t\t<td width=50%>The Caporaso Lab is located in the <a href=\"http://www.mggen.nau.edu/\">Center for Microbial Genetics and Genomics</a> at <a href=\"http://www.nau.edu/\">Northern Arizona University</a>. We are an applied bioinformatics lab, developing and using software for studying communities of micro-organisms.</td>\n",
        "\t\t<td>\n",
        "\t\t\t<img src=\"images/ard_flickr_user_gwarcita.jpg\" width=\"350\"><br>\n",
        "\t\t\t<font size=-4>Photo by <a href=\"http://www.flickr.com/photos/johnida/\">gwarcita</a>.</font>\n",
        "\t\t<td>\n",
        "\t</tr>\n",
        "\t<tr>\n",
        "\t\t<td>&nbsp;</td>\n",
        "\t\t<td></td>\n",
        "\t</tr>\n",
        "</table>\n",
        "<p>\n",
        "<p>\n",
        "<b>Teaching</b><br>\n",
        "Dr. Caporaso teaches graduate and undergraduate bioinformatics in the Biology and Computer Science departments at Northern Arizona University. You can find course websites and teaching materials on <a href=\"teaching\">Dr. Caporaso's teaching website</a>.\n",
        "<p>\n",
        "<p>\n",
        "<b>Jobs</b><br>\n",
        "We are always on the lookout for exceptional post-doctoral scholars, graduate students, undergraduate students and research technicians (python programmers, typically) to join the lab. If you're interested in the human microbiome or microbiology of the built environment (e.g., offices, homes, hospitals, etc) and would like to work in the Caporaso Lab, you should <a href=\"mailto:gregcaporaso@gmail.com\">e-mail Greg</a>. Be sure to describe your research interests in your e-mail, and attach a CV or resume as a PDF.\n",
        "<p>\n",
        "The Caporaso Lab is currently <a href=\"https://hr.peoplesoft.nau.edu/psp/ph90prta/EMPLOYEE/HCM/c/HRS_HRAM.HRS_CE.GBL?Page=HRS_CE_JOB_DTL&Action=A&JobOpeningId=600663&SiteId=1&PostingSeq=1\">hiring a post-doc</a>. Application deadline is January 9, 2014.\n",
        "<p>\n",
        "<p>\n",
        "<b>Finding us</b><br>\n",
        "We're physically located in Room 220 of the Applied Research and Development (ARD) building at Northern Arizona University [<a href=\"https://maps.google.com/maps?q=W+University+Dr+and+S+Knoles+Dr,+Northern+Arizona+University&hl=en&ll=35.184954,-111.655233&spn=0.008199,0.010278&sll=35.179842,-111.653473&sspn=0.016398,0.028732&hnear=S+Knoles+Dr+%26+W+University+Dr,+Flagstaff,+Coconino,+Arizona+86001&t=m&z=17%3E\">map</a>]. Dr. Caporaso's office is located in Room 224 of ARD, which is in the Room 220 office suite.<br>\n",
        "<p>\n",
        "      </div><!-- /.entry-content -->\n",
        "    </div><!-- /.entry-wrapper -->\n",
        "  </article>\n",
        "</div><!-- /#main -->\n",
        "\n",
        "<div class=\"footer-wrapper\">\n",
        "  <footer role=\"contentinfo\">\n",
        "    <span>&copy; 2014 J Gregory Caporaso. Powered by <a href=\"http://jekyllrb.com\">Jekyll</a> using the <a href=\"http://mademistakes.com/\">So Simple Theme</a>.</span>\n",
        "<div class=\"social-icons\">\n",
        "\t\n",
        "\t\n",
        "\t\n",
        "\t\n",
        "\t\n",
        "\t<a href=\"http://github.com/gregcaporaso\" title=\"J Gregory Caporaso on Github\" target=\"_blank\"><i class=\"icon-github icon-2x\"></i></a>\n",
        "\t\n",
        "</div><!-- /.social-icons -->\n",
        "  </footer>\n",
        "</div><!-- /.footer-wrapper -->\n",
        "\n",
        "<script src=\"//ajax.googleapis.com/ajax/libs/jquery/1.9.1/jquery.min.js\"></script>\n",
        "<script>window.jQuery || document.write('<script src=\"/assets/js/vendor/jquery-1.9.1.min.js\"><\\/script>')</script>\n",
        "<script src=\"/assets/js/main.min.js\"></script>\n",
        "<!-- Asynchronous Google Analytics snippet -->\n",
        "<script>\n",
        "  var _gaq = _gaq || [];\n",
        "  var pluginUrl = \n",
        " '//www.google-analytics.com/plugins/ga/inpage_linkid.js';\n",
        "  _gaq.push(['_require', 'inpage_linkid', pluginUrl]);\n",
        "  _gaq.push(['_setAccount', '']);\n",
        "  _gaq.push(['_trackPageview']);\n",
        "\n",
        "  (function() {\n",
        "    var ga = document.createElement('script'); ga.type = 'text/javascript'; ga.async = true;\n",
        "    ga.src = ('https:' == document.location.protocol ? 'https://ssl' : 'http://www') + '.google-analytics.com/ga.js';\n",
        "    var s = document.getElementsByTagName('script')[0]; s.parentNode.insertBefore(ga, s);\n",
        "  })();\n",
        "</script>\n",
        "          \n",
        "\n",
        "</body>\n",
        "</html>\n"
       ]
      }
     ],
     "prompt_number": 18
    },
    {
     "cell_type": "markdown",
     "metadata": {},
     "source": [
      "Or perhaps a more useful example - ``urlopen`` can be used with [NCBI EUtils](http://www.ncbi.nlm.nih.gov/books/NBK25500/) to automate the retrival of data from the NCBI databases. For example, to retrieve PubMed IDs for articles on breast cancer published in *Science* in 2013, you could use the following:"
     ]
    },
    {
     "cell_type": "code",
     "collapsed": false,
     "input": [
      "search_url = \"http://eutils.ncbi.nlm.nih.gov/entrez/eutils/esearch.fcgi?db=pubmed&term=science[journal]+AND+breast+cancer+AND+2013[pdat]\"\n",
      "result = urlopen(search_url)"
     ],
     "language": "python",
     "metadata": {},
     "outputs": [],
     "prompt_number": 19
    },
    {
     "cell_type": "code",
     "collapsed": false,
     "input": [
      "print ''.join(result)"
     ],
     "language": "python",
     "metadata": {},
     "outputs": [
      {
       "output_type": "stream",
       "stream": "stdout",
       "text": [
        "<?xml version=\"1.0\" ?>\n",
        "<!DOCTYPE eSearchResult PUBLIC \"-//NLM//DTD esearch 20060628//EN\" \"http://eutils.ncbi.nlm.nih.gov/eutils/dtd/20060628/esearch.dtd\">\n",
        "<eSearchResult><Count>6</Count><RetMax>6</RetMax><RetStart>0</RetStart><IdList>\n",
        "<Id>24288332</Id>\n",
        "<Id>24288308</Id>\n",
        "<Id>23620028</Id>\n",
        "<Id>23539593</Id>\n",
        "<Id>23372014</Id>\n",
        "<Id>23329041</Id>\n",
        "</IdList><TranslationSet><Translation>     <From>science[journal]</From>     <To>\"Science\"[Journal] OR \"Science (80- )\"[Journal] OR \"J Zhejiang Univ Sci\"[Journal]</To>    </Translation><Translation>     <From>breast cancer</From>     <To>\"breast neoplasms\"[MeSH Terms] OR (\"breast\"[All Fields] AND \"neoplasms\"[All Fields]) OR \"breast neoplasms\"[All Fields] OR (\"breast\"[All Fields] AND \"cancer\"[All Fields]) OR \"breast cancer\"[All Fields]</To>    </Translation></TranslationSet><TranslationStack>   <TermSet>    <Term>\"Science\"[Journal]</Term>    <Field>Journal</Field>    <Count>164638</Count>    <Explode>N</Explode>   </TermSet>   <TermSet>    <Term>\"Science (80- )\"[Journal]</Term>    <Field>Journal</Field>    <Count>10</Count>    <Explode>N</Explode>   </TermSet>   <OP>OR</OP>   <TermSet>    <Term>\"J Zhejiang Univ Sci\"[Journal]</Term>    <Field>Journal</Field>    <Count>364</Count>    <Explode>N</Explode>   </TermSet>   <OP>OR</OP>   <OP>GROUP</OP>   <TermSet>    <Term>\"breast neoplasms\"[MeSH Terms]</Term>    <Field>MeSH Terms</Field>    <Count>211254</Count>    <Explode>Y</Explode>   </TermSet>   <TermSet>    <Term>\"breast\"[All Fields]</Term>    <Field>All Fields</Field>    <Count>346999</Count>    <Explode>N</Explode>   </TermSet>   <TermSet>    <Term>\"neoplasms\"[All Fields]</Term>    <Field>All Fields</Field>    <Count>1995747</Count>    <Explode>N</Explode>   </TermSet>   <OP>AND</OP>   <OP>GROUP</OP>   <OP>OR</OP>   <TermSet>    <Term>\"breast neoplasms\"[All Fields]</Term>    <Field>All Fields</Field>    <Count>211408</Count>    <Explode>N</Explode>   </TermSet>   <OP>OR</OP>   <TermSet>    <Term>\"breast\"[All Fields]</Term>    <Field>All Fields</Field>    <Count>346999</Count>    <Explode>N</Explode>   </TermSet>   <TermSet>    <Term>\"cancer\"[All Fields]</Term>    <Field>All Fields</Field>    <Count>1411962</Count>    <Explode>N</Explode>   </TermSet>   <OP>AND</OP>   <OP>GROUP</OP>   <OP>OR</OP>   <TermSet>    <Term>\"breast cancer\"[All Fields]</Term>    <Field>All Fields</Field>    <Count>172066</Count>    <Explode>N</Explode>   </TermSet>   <OP>OR</OP>   <OP>GROUP</OP>   <OP>AND</OP>   <TermSet>    <Term>2013[pdat]</Term>    <Field>pdat</Field>    <Count>1118247</Count>    <Explode>N</Explode>   </TermSet>   <OP>AND</OP>  </TranslationStack><QueryTranslation>(\"Science\"[Journal] OR \"Science (80- )\"[Journal] OR \"J Zhejiang Univ Sci\"[Journal]) AND (\"breast neoplasms\"[MeSH Terms] OR (\"breast\"[All Fields] AND \"neoplasms\"[All Fields]) OR \"breast neoplasms\"[All Fields] OR (\"breast\"[All Fields] AND \"cancer\"[All Fields]) OR \"breast cancer\"[All Fields]) AND 2013[pdat]</QueryTranslation></eSearchResult>\n",
        "\n"
       ]
      }
     ],
     "prompt_number": 20
    },
    {
     "cell_type": "markdown",
     "metadata": {},
     "source": [
      "By working with the [``xml Element tree`` module](http://docs.python.org/2/library/xml.etree.elementtree.html), we can get a more useful representation of that data, and extract the elements that we're interested in. "
     ]
    },
    {
     "cell_type": "code",
     "collapsed": false,
     "input": [
      "import xml.etree.ElementTree as ET\n",
      "tree = ET.parse(urlopen(search_url))\n",
      "root = tree.getroot()"
     ],
     "language": "python",
     "metadata": {},
     "outputs": [],
     "prompt_number": 21
    },
    {
     "cell_type": "code",
     "collapsed": false,
     "input": [
      "for e in root.findall('IdList/Id'):\n",
      "    print e.text"
     ],
     "language": "python",
     "metadata": {},
     "outputs": [
      {
       "output_type": "stream",
       "stream": "stdout",
       "text": [
        "24288332\n",
        "24288308\n",
        "23620028\n",
        "23539593\n",
        "23372014\n",
        "23329041\n"
       ]
      }
     ],
     "prompt_number": 22
    },
    {
     "cell_type": "markdown",
     "metadata": {},
     "source": [
      "Or we could count the number of entries:"
     ]
    },
    {
     "cell_type": "code",
     "collapsed": false,
     "input": [
      "print root.find('Count').text"
     ],
     "language": "python",
     "metadata": {},
     "outputs": [
      {
       "output_type": "stream",
       "stream": "stdout",
       "text": [
        "6\n"
       ]
      }
     ],
     "prompt_number": 23
    }
   ],
   "metadata": {}
  }
 ]
}