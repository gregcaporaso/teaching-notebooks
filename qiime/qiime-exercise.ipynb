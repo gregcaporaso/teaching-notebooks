{
 "metadata": {
  "name": ""
 },
 "nbformat": 3,
 "nbformat_minor": 0,
 "worksheets": [
  {
   "cells": [
    {
     "cell_type": "markdown",
     "metadata": {},
     "source": [
      "In this assignment, you'll be using QIIME to analyze two data sets. First, you'll work through a tiny test data set, which contains about 100 sequences from a few different human body sites collected over a few days. This will familiarize you with running QIIME through the IPython Notebook, and working with QIIME output. You'll then work through an analysis of a real-world data set, where human-associated microbial communities were shown to have forensic potential, potentially allowing investigators to determine who touched an object based on the \"microbial fingerprint\" they leave behind. \n",
      "\n",
      "Before starting this assignment, you'll work through some reading that will provide you with the necessary background to complete this assignment. The final assignment for class will also be based on the data you generate in this assignment, so getting the necessary background now is worth the investment.\n",
      "\n",
      "You should begin by reading [Fierer et al (2010)](http://www.pnas.org/content/early/2010/03/01/1000162107.full.pdf), where this forensic study was initially published. You should then review the QIIME [Illumina Overview Tutorial](http://nbviewer.ipython.org/github/qiime/qiime/blob/1.8.0/examples/ipynb/illumina_overview_tutorial.ipynb), which will cover some of the commands that you'll be using here. Finally, as you work through the assignment, any time you use a QIIME command, you should look up that command in [QIIME script index](http://qiime.org/documentation/script_index.html) to understand what it does and how to use it. \n",
      "\n",
      "**IMPORTANT**: If you start your assignment, and then leave the notebook server, you may need to re-run the first two cells to configure your IPython Notebook session.\n",
      "\n",
      "**IMPORTANT**: This assignment includes some steps that will take some time to run (possibly up to 20 minutes). You should avoid starting this assignment close to the deadline as the server will be backed up at that time if a lot of people are running their analyses at the same time. You are responsible for starting this in a timely manner! If your assignment is late because it did not complete in time, that is your fault, not ours!"
     ]
    },
    {
     "cell_type": "heading",
     "level": 2,
     "metadata": {},
     "source": [
      "Getting started: notebook configuration"
     ]
    },
    {
     "cell_type": "markdown",
     "metadata": {},
     "source": [
      "To start the assignment, replace ``None`` in the following cell with your NAU ID, in quotes. For example, if your NAU ID was ``abc123``:\n",
      "\n",
      "``nau_id = None`` \n",
      "\n",
      "would become:\n",
      "\n",
      "``nau_id = \"abc123\"``"
     ]
    },
    {
     "cell_type": "code",
     "collapsed": false,
     "input": [
      "nau_id = None"
     ],
     "language": "python",
     "metadata": {},
     "outputs": []
    },
    {
     "cell_type": "code",
     "collapsed": false,
     "input": [
      "from os import chdir, mkdir, rename\n",
      "from os.path import exists, join\n",
      "from qiime.test import write_test_data\n",
      "from IPython.display import FileLinks as ipFileLinks, FileLink as ipFileLink\n",
      "\n",
      "ipython_nb_base = \"/home/ipython-p\"\n",
      "params_fp = join(ipython_nb_base, \"qiime_assignment_materials\", \"params.txt\")\n",
      "reference_seqs = join(ipython_nb_base, \"qiime_assignment_materials\", \"88_otus.fasta\")\n",
      "reference_tree = join(ipython_nb_base, \"qiime_assignment_materials\", \"88_otus.tree\")\n",
      "reference_tax = join(ipython_nb_base, \"qiime_assignment_materials\", \"88_otu_taxonomy.txt\")\n",
      "\n",
      "forensic_seqs = join(ipython_nb_base, \"qiime_assignment_materials\", \"forensic-seqs.fna\")\n",
      "forensic_map = join(ipython_nb_base, \"qiime_assignment_materials\", \"forensic-map.txt\")\n",
      "\n",
      "try:\n",
      "    personal_dir = join(ipython_nb_base, nau_id)\n",
      "except AttributeError:\n",
      "    raise ValueError(\"Can't create and change to your personal directory. Did you set your NAU ID in the cell above? You must resolve this before you continue.\")\n",
      "\n",
      "if not exists(personal_dir):\n",
      "    mkdir(personal_dir)\n",
      "    chdir(personal_dir)\n",
      "else:\n",
      "    chdir(personal_dir)\n",
      "\n",
      "tiny_test_dir = \"tiny-test\"\n",
      "tiny_test_path = join(personal_dir, tiny_test_dir)\n",
      "forensic_dir = \"forensic\"\n",
      "forensic_path = join(personal_dir, forensic_dir)\n",
      "\n",
      "if not exists(tiny_test_path):\n",
      "    mkdir(tiny_test_path)\n",
      "    \n",
      "if not exists(forensic_path):\n",
      "    mkdir(forensic_path)\n",
      "\n",
      "# To use FileLink(s), but link to files in the user's working directory\n",
      "# we wrap the call to FileLink(s) to append the working_dir to the \n",
      "# url_prefix. NOTE: This is not something that you'll generally need to\n",
      "# do - it's only important as we're working with multiple users in the \n",
      "# IPython Notebook, which is currently only a single-user environment.\n",
      "def FileLinks(path):\n",
      "    return ipFileLinks(path,url_prefix='files/%s/' % nau_id)\n",
      "\n",
      "def FileLink(path):\n",
      "    return ipFileLink(path,url_prefix='files/%s/' % nau_id)\n",
      "    \n",
      "write_test_data(tiny_test_path)\n",
      "rename(join(tiny_test_path, \"map\"), join(tiny_test_path, \"map.txt\"))\n",
      "rename(join(tiny_test_path, \"seqs\"), join(tiny_test_path, \"seqs.fna\"))"
     ],
     "language": "python",
     "metadata": {},
     "outputs": []
    },
    {
     "cell_type": "heading",
     "level": 2,
     "metadata": {},
     "source": [
      "Running example commands with the QIIME \"Tiny Test\" data set"
     ]
    },
    {
     "cell_type": "markdown",
     "metadata": {},
     "source": [
      "You can always see what files are present, and view or download them, using ``FileLinks`` (or ``FileLink``, if providing a single file path). Execute this cell and open the `map.txt` file to view the sample metadata associated with this study."
     ]
    },
    {
     "cell_type": "code",
     "collapsed": false,
     "input": [
      "FileLinks(tiny_test_dir)"
     ],
     "language": "python",
     "metadata": {},
     "outputs": []
    },
    {
     "cell_type": "markdown",
     "metadata": {},
     "source": [
      "The first step in a QIIME analysis is to prepare the mapping file and validate it. In this case, the mapping file has been prepared for you, so you just need to validate it. We do that with [`validate_mapping_file.py`](http://qiime.org/scripts/validate_mapping_file.html). You can run that as follows:"
     ]
    },
    {
     "cell_type": "code",
     "collapsed": false,
     "input": [
      "input_map_fp = join(tiny_test_dir, 'map.txt')\n",
      "output_dir = join(tiny_test_dir, 'vmf_out')\n",
      "!validate_mapping_file.py -m $input_map_fp -o $output_dir"
     ],
     "language": "python",
     "metadata": {},
     "outputs": []
    },
    {
     "cell_type": "markdown",
     "metadata": {},
     "source": [
      "Note that there were errors and/or warnings generated during mapping file validation. Open and view the `map.html` file in the vmf output directory. We see that the only issues were with barcodes, and we are not using the barcodes in this example, so we can continue on."
     ]
    },
    {
     "cell_type": "code",
     "collapsed": false,
     "input": [
      "FileLinks(output_dir)"
     ],
     "language": "python",
     "metadata": {},
     "outputs": []
    },
    {
     "cell_type": "markdown",
     "metadata": {},
     "source": [
      "Next we're going to run open reference OTU picking at 88% identity using [pick_open_reference_otus.py](http://qiime.org/scripts/pick_open_reference_otus.html). You should read [*OTU picking strategies in QIIME*](http://qiime.org/tutorials/otu_picking.html) to understand what this process does, and why we prefer this to other strategies. This will take a few minutes to run."
     ]
    },
    {
     "cell_type": "code",
     "collapsed": false,
     "input": [
      "input_seqs_fp = join(tiny_test_dir, 'seqs.fna')\n",
      "output_dir = join(tiny_test_dir, 'or_otus')\n",
      "!pick_open_reference_otus.py -i $input_seqs_fp -o $output_dir -p $params_fp -r $reference_seqs -s 0.88"
     ],
     "language": "python",
     "metadata": {},
     "outputs": []
    },
    {
     "cell_type": "markdown",
     "metadata": {},
     "source": [
      "You can now review the output generated by this command. Much of these are intermediary data files, so not useful to view directly, though do open the log file (listed at the top as ``log...txt``) to get an idea of what information is stored in the log file (e.g., how can you compute the run time from the information in the log file?"
     ]
    },
    {
     "cell_type": "code",
     "collapsed": false,
     "input": [
      "FileLinks(output_dir)"
     ],
     "language": "python",
     "metadata": {},
     "outputs": []
    },
    {
     "cell_type": "markdown",
     "metadata": {},
     "source": [
      "We'll create variables pointing to several of the files that we're interested in, and generate a summary of the output."
     ]
    },
    {
     "cell_type": "code",
     "collapsed": false,
     "input": [
      "otu_table_fp = join(tiny_test_dir, 'or_otus', 'otu_table_mc2_w_tax_no_pynast_failures.biom')\n",
      "output_fp = join(tiny_test_dir, 'or_otus', 'otu_table_mc2_w_tax_no_pynast_failures_summ.txt')\n",
      "tree_fp = join(tiny_test_dir, 'or_otus', 'rep_set.tre')\n",
      "!biom summarize-table -i $otu_table_fp -o $output_fp"
     ],
     "language": "python",
     "metadata": {},
     "outputs": []
    },
    {
     "cell_type": "markdown",
     "metadata": {},
     "source": [
      "We can look at that summary (via the link below) to see how many sequences were obtained per sample. One thing we need to do here is choose an even sampling depth for our diversity analyses. Any samples with fewer than that number of sequences will be discarded, and any samples with more than that number of sequences will be randomly subsampled (without replacement, i.e., *rarefied*) to contain that number of sequences. In this case, I'll choose 17, but that number is very study specific. **You do not want to use a sampling depth of 17 for the forensic study.** "
     ]
    },
    {
     "cell_type": "code",
     "collapsed": false,
     "input": [
      "FileLink(output_fp)"
     ],
     "language": "python",
     "metadata": {},
     "outputs": []
    },
    {
     "cell_type": "markdown",
     "metadata": {},
     "source": [
      "We'll next run [`core_diversity_analyses.py`](http://qiime.org/scripts/core_diversity_analyses.html), which runs several different diversity analysis commands. The primary parameters that will vary for this command are the even sampling depth (mentioned above) and the categories (or mapping file headers). Both of these are study specific. **Avoid passing categories that have more than about six different values in the mapping file, as these will take a very, very long time to run.**"
     ]
    },
    {
     "cell_type": "code",
     "collapsed": false,
     "input": [
      "even_sampling_depth = 17\n",
      "output_dir = join(tiny_test_dir, \"cd_even%d\" % even_sampling_depth)\n",
      "!core_diversity_analyses.py -i $otu_table_fp -o $output_dir -t $tree_fp -e $even_sampling_depth -c \"SampleType,days_since_epoch\" -m $input_map_fp"
     ],
     "language": "python",
     "metadata": {},
     "outputs": []
    },
    {
     "cell_type": "markdown",
     "metadata": {},
     "source": [
      "We can now view the output of our diversity analyses. The file of interest here is ``index.html``, so we'll link directly to that. Review the taxonomic summaries, the alpha diversity results, and the beta diversity results. For the forensic data set, you'll turn in the *Rarified BIOM table*, which is linked from the ``index.html``."
     ]
    },
    {
     "cell_type": "code",
     "collapsed": false,
     "input": [
      "cd_index = join(output_dir, \"index.html\")\n",
      "FileLink(cd_index)"
     ],
     "language": "python",
     "metadata": {},
     "outputs": []
    },
    {
     "cell_type": "heading",
     "level": 2,
     "metadata": {},
     "source": [
      "Assignment: Microbiome-based forensics"
     ]
    },
    {
     "cell_type": "markdown",
     "metadata": {},
     "source": [
      "Next, you'll adapt the commands above to perform a more interesting analysis and answer some questions. The commands will be largely the same as above, but instead you'll use the following variables:\n",
      "\n",
      "```\n",
      "forensic_dir\n",
      "forensic_seqs\n",
      "forensic_map\n",
      "```\n",
      "\n",
      "For example, here is the ``validate_mapping_file.py`` command:"
     ]
    },
    {
     "cell_type": "code",
     "collapsed": false,
     "input": [
      "input_map_fp = forensic_map\n",
      "output_dir = join(forensic_dir, 'vmf_out')\n",
      "!validate_mapping_file.py -m $input_map_fp -o $output_dir"
     ],
     "language": "python",
     "metadata": {},
     "outputs": []
    },
    {
     "cell_type": "code",
     "collapsed": false,
     "input": [
      "FileLinks(output_dir)"
     ],
     "language": "python",
     "metadata": {},
     "outputs": []
    },
    {
     "cell_type": "markdown",
     "metadata": {},
     "source": [
      "Next, run ``pick_open_reference_otus.py`` (hint: the reference sequences are the same as for the previous data set)."
     ]
    },
    {
     "cell_type": "code",
     "collapsed": false,
     "input": [],
     "language": "python",
     "metadata": {},
     "outputs": []
    },
    {
     "cell_type": "markdown",
     "metadata": {},
     "source": [
      "Next, run ``biom summarize-table``, and choose an even sampling depth (hint: it should probably be over 100)."
     ]
    },
    {
     "cell_type": "code",
     "collapsed": false,
     "input": [],
     "language": "python",
     "metadata": {},
     "outputs": []
    },
    {
     "cell_type": "markdown",
     "metadata": {},
     "source": [
      "Finally, run ``core_diversity_analyses.py``, and be sure to set the ``even_sampling_depth`` variable before you execute the command."
     ]
    },
    {
     "cell_type": "code",
     "collapsed": false,
     "input": [],
     "language": "python",
     "metadata": {},
     "outputs": []
    },
    {
     "cell_type": "heading",
     "level": 2,
     "metadata": {},
     "source": [
      "Questions"
     ]
    },
    {
     "cell_type": "markdown",
     "metadata": {},
     "source": [
      "Answer all of the questions below in the notebook, and turn in a copy of your notebook with your rarefied BIOM table (linked from the ``core_diversity_analyses.py`` ``index.html`` file that you created (right click the link, and *Save as...*). All of these questions refer to the forensic data set, not the tiny test data set!"
     ]
    },
    {
     "cell_type": "markdown",
     "metadata": {},
     "source": [
      "Question 1: What was the minimum number of sequences per sample? What was the maximum number of sequences per sample? What even sampling depth did you choose, and why?"
     ]
    },
    {
     "cell_type": "markdown",
     "metadata": {},
     "source": [
      "*Answer Question 1 in this cell.*"
     ]
    },
    {
     "cell_type": "markdown",
     "metadata": {},
     "source": [
      "Question 2: How long did ``pick_open_reference_otus.py`` take to run (to the second). Review the log file, and compute the run time from information in that file. How long did ``core_diversity_analyses.py`` take to run (again, to the second)."
     ]
    },
    {
     "cell_type": "markdown",
     "metadata": {},
     "source": [
      "*Answer Question 2 in this cell.*"
     ]
    },
    {
     "cell_type": "markdown",
     "metadata": {},
     "source": [
      "Question 3: The focus of the *Fierer 2010* paper was to show that it is possible to match an individual to the objects they touch based on the microbial communities that the individual leaves behind. The Unweighted UniFrac emperor plots (linked from the ``core_diversity_analyses.py`` ``index.html`` file) will allow you to figure out which subject (`M2`, `M3`, or `M9`) touched which keyboard (`K1`, `K2`, or `K3`). Match the individuals to the keyboard they touched, and explain how you came to this answer. There is one right answer to this question."
     ]
    },
    {
     "cell_type": "markdown",
     "metadata": {},
     "source": [
      "*Answer Question 3 in this cell.*"
     ]
    }
   ],
   "metadata": {}
  }
 ]
}