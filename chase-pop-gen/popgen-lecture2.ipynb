{
 "metadata": {
  "name": "",
  "signature": "sha256:5b51f63848553d7a10e68409814914ff877c7d702ee9ea0ef99e4ed90d59dfbc"
 },
 "nbformat": 3,
 "nbformat_minor": 0,
 "worksheets": [
  {
   "cells": [
    {
     "cell_type": "markdown",
     "metadata": {},
     "source": [
      "Introduction to basic statistics and distributions\n",
      "=================================================="
     ]
    },
    {
     "cell_type": "markdown",
     "metadata": {},
     "source": [
      "Up until this point we have used sequence alignment and tree building in order to attempt to classify sequences and organisms. We made assumptions about their relatedness but how do we know if the differences we are seeing are actually differences or simply a random observation? This notebok is meant to give a very brief introduction to statistics and to illustrate how it can be applied to many processes that will be covered in class."
     ]
    },
    {
     "cell_type": "code",
     "collapsed": false,
     "input": [
      "from __future__ import division\n",
      "from lecture_2_util import normal_dist\n",
      "import numpy as np\n",
      "import matplotlib.mlab as mlab\n",
      "import matplotlib.pyplot as plt\n",
      "from scipy import stats\n",
      "from random import choice\n",
      "\n"
     ],
     "language": "python",
     "metadata": {},
     "outputs": [],
     "prompt_number": 1
    },
    {
     "cell_type": "markdown",
     "metadata": {},
     "source": [
      "Known Distribution\n",
      "----------------\n",
      "We'll start by looking at an example of a known distribution. The average height of the US population is 66.4\" and the standard deviation is 2.8\"\n",
      "\n",
      "For now just think of standard deviation as the amount that a population varies. \n",
      "\n",
      "Height is normally distributed, however what does this actually mean? "
     ]
    },
    {
     "cell_type": "markdown",
     "metadata": {},
     "source": [
      "In the cell below we'll use the numpy normal function to simulate drawing a random height from a population with the same mean and standard deviation as the US population. This is of course just an example, we are creating a distribution from a known distribution, we should know exactly what the outcome will be.\n",
      "\n",
      "What does a standard normal distribution look like?"
     ]
    },
    {
     "cell_type": "code",
     "collapsed": false,
     "input": [
      "mean = 0\n",
      "sigma = 1\n",
      "x = np.linspace(-4.5,4.5,100)\n",
      "plt.plot(x,mlab.normpdf(x,mean,sigma))\n",
      "plt.ylim(0, 0.45)\n",
      "plt.show()"
     ],
     "language": "python",
     "metadata": {},
     "outputs": [
      {
       "metadata": {},
       "output_type": "display_data",
       "png": "[encoded data removed]",
       "text": [
        "<matplotlib.figure.Figure at 0x114617990>"
       ]
      }
     ],
     "prompt_number": 2
    },
    {
     "cell_type": "markdown",
     "metadata": {},
     "source": [
      "Characteristics of a normal distribution:\n",
      "----------------------------\n",
      "1. The area under the curve always equals one, regardless of what the curve looks like. \n",
      "2. the 'tails' extend out to infiniti and negative infiniti\n",
      "3. It is symmetric\n",
      "4. Density decreases as it gets farther from zero.\n",
      "\n",
      "Others that we're not going to worry about."
     ]
    },
    {
     "cell_type": "markdown",
     "metadata": {},
     "source": [
      "Population: Every individual of interest. In our case the entire US population.\n",
      "\n",
      "Sample: A subset of the population of interest. \n",
      "\n",
      "Others that we're not going to get into right now.\n",
      "\n"
     ]
    },
    {
     "cell_type": "markdown",
     "metadata": {},
     "source": [
      "Below is a function that will allow us to simulate drawing a random sample from a normally distributed population."
     ]
    },
    {
     "cell_type": "code",
     "collapsed": false,
     "input": [
      "#Function to create a histogram based on normal distribution. \n",
      "def pop_histogram(mean, sd, n):\n",
      "    heights = []\n",
      "    for i in range(n):\n",
      "        height = np.random.normal(mean, sd)\n",
      "        heights.append(height)\n",
      "    heights = np.array(heights)\n",
      "    num_bins = 1000\n",
      "    heights = np.array(heights)\n",
      "    plt.hist(heights, num_bins, weights=np.zeros_like(heights) + 1. / heights.size)\n",
      "    plt.xlabel('Height')\n",
      "    plt.ylabel('Frequency')\n",
      "    plt.show()\n"
     ],
     "language": "python",
     "metadata": {},
     "outputs": [],
     "prompt_number": 26
    },
    {
     "cell_type": "code",
     "collapsed": false,
     "input": [
      "mean = 66.4\n",
      "sd = 2.8\n",
      "n = 100000\n",
      "pop_histogram(mean, sd, n)"
     ],
     "language": "python",
     "metadata": {},
     "outputs": [
      {
       "metadata": {},
       "output_type": "display_data",
       "png": "[encoded data removed]",
       "text": [
        "<matplotlib.figure.Figure at 0x11464b850>"
       ]
      }
     ],
     "prompt_number": 27
    },
    {
     "cell_type": "markdown",
     "metadata": {},
     "source": [
      "Lets look at what we can do with this. \n",
      "Perhaps we want to know if the class height is different than the population. The first thing to do is form a null and alternative hypothesis.Next we need to decide what our significance level is, 0.05 is pretty standard although it depends on the data. \n",
      "\n",
      "What assumptions are we making here? \n",
      "\n",
      "What is \n",
      "\n"
     ]
    },
    {
     "cell_type": "code",
     "collapsed": false,
     "input": [
      "heights = [69, 66, 70, 66, 65, 64, 66, 74, 69, 70, 66, 67, 63, 74, 69, 66, 74, 61, 70, 66, 68, 77, 67, 62]\n",
      "plt.hist(heights)\n",
      "plt.show()\n",
      "mean_height = np.mean(heights)\n",
      "print mean_height\n",
      "print len(heights)"
     ],
     "language": "python",
     "metadata": {},
     "outputs": [
      {
       "metadata": {},
       "output_type": "display_data",
       "png": "[encoded data removed]",
       "text": [
        "<matplotlib.figure.Figure at 0x11468af90>"
       ]
      },
      {
       "output_type": "stream",
       "stream": "stdout",
       "text": [
        "67.875\n",
        "24\n"
       ]
      }
     ],
     "prompt_number": 29
    },
    {
     "cell_type": "markdown",
     "metadata": {},
     "source": [
      "Now that we have our data we can calculate a test statistic. It is not extraordinarily important to remember these calculations for the time being. We know everything about out population so we can use a Z-test\n",
      "\n",
      "\n",
      "n: sample size,\n",
      "sigma = the standard deviation of the population,\n",
      "m = class average,\n",
      "mu = Population average,\n",
      "z = our test statistic"
     ]
    },
    {
     "cell_type": "markdown",
     "metadata": {},
     "source": [
      "Null: The heights in the class are the same as the population\n",
      "Alternative: The height in class is greater than the population\n",
      "Ho: m = mu\n",
      "Ha: m > mu\n",
      "alpha = .05 "
     ]
    },
    {
     "cell_type": "code",
     "collapsed": false,
     "input": [
      "n = 24\n",
      "m = 67.875\n",
      "mu = 66.4\n",
      "sigma = 2.8\n",
      "se = sigma/(np.sqrt(n))\n",
      "z = (m - mu)/se\n",
      "print z"
     ],
     "language": "python",
     "metadata": {},
     "outputs": [
      {
       "output_type": "stream",
       "stream": "stdout",
       "text": [
        "2.58071240758\n"
       ]
      }
     ],
     "prompt_number": 30
    },
    {
     "cell_type": "markdown",
     "metadata": {},
     "source": [
      "Now lets see if our test statistic is significant"
     ]
    },
    {
     "cell_type": "code",
     "collapsed": false,
     "input": [
      "p_values = stats.norm.sf(z)\n",
      "print p_values"
     ],
     "language": "python",
     "metadata": {},
     "outputs": [
      {
       "output_type": "stream",
       "stream": "stdout",
       "text": [
        "0.00492983405054\n"
       ]
      }
     ],
     "prompt_number": 31
    },
    {
     "cell_type": "markdown",
     "metadata": {},
     "source": [
      "What does this mean?\n",
      "------------------\n",
      "If this seemed hard to follow and like a lot of handwaving you are not alone. First we made some pretty serious assumptions about our data. Second we really never discussed how we got from a z to a p-value, what's the difference anyways? Why such a big suit? Before moving on it important to note that if a distribution is known you should use it, you just don't have to...\n",
      "\n",
      "Lets figure out what this actually means, shall we?"
     ]
    },
    {
     "cell_type": "code",
     "collapsed": false,
     "input": [
      "sample_mean = 67.875\n",
      "iterations = 100000\n",
      "mu = 66.4\n",
      "n = 24\n",
      "\n",
      "greater_than = 0\n",
      "for i in range(iterations):\n",
      "    heights = []\n",
      "    for i in range(n):\n",
      "        height = np.random.normal(mean, sd)\n",
      "        heights.append(height)\n",
      "    mean_height = np.mean(heights)\n",
      "    if mean_height >= sample_mean:\n",
      "        greater_than += 1\n",
      "print greater_than/iterations\n",
      "        \n",
      "        \n",
      "    "
     ],
     "language": "python",
     "metadata": {},
     "outputs": [
      {
       "output_type": "stream",
       "stream": "stdout",
       "text": [
        "0.0049\n"
       ]
      }
     ],
     "prompt_number": 42
    },
    {
     "cell_type": "markdown",
     "metadata": {},
     "source": [
      "How do we approach Genetic data that *doesn't* have a known distribution?\n",
      "---------------------------\n",
      "Lets go back a few lectures "
     ]
    },
    {
     "cell_type": "code",
     "collapsed": false,
     "input": [
      "from iab.algorithms import generate_random_score_distribution\n",
      "from iab.algorithms import fraction_better_or_equivalent_alignments\n",
      "query_seq = [choice('ACGT') for e in range(15)]\n",
      "\n",
      "random_scores = generate_random_score_distribution(query_seq, query_seq, 99)\n",
      "print random_scores\n",
      "n, bins, patches = plt.hist(random_scores, facecolor='green', alpha=0.5, bins=range(0,20,1), normed=1)\n",
      "plt.xlabel('Score')\n",
      "plt.ylabel('Frequency')\n"
     ],
     "language": "python",
     "metadata": {},
     "outputs": [
      {
       "output_type": "stream",
       "stream": "stdout",
       "text": [
        "[5, 4, 3, 3, 3, 5, 3, 3, 5, 3, 3, 4, 3, 3, 3, 3, 3, 3, 5, 3, 4, 3, 3, 3, 3, 3, 4, 4, 5, 4, 3, 4, 5, 5, 4, 4, 3, 4, 4, 3, 3, 4, 3, 3, 4, 4, 4, 3, 4, 4, 4, 3, 4, 3, 4, 3, 6, 5, 3, 4, 3, 4, 3, 3, 4, 3, 5, 7, 3, 5, 4, 3, 4, 4, 3, 3, 3, 4, 2, 3, 3, 3, 4, 4, 3, 3, 4, 5, 3, 4, 5, 4, 4, 5, 3, 3, 2, 3, 4]\n"
       ]
      },
      {
       "metadata": {},
       "output_type": "pyout",
       "prompt_number": 43,
       "text": [
        "<matplotlib.text.Text at 0x11471a590>"
       ]
      },
      {
       "metadata": {},
       "output_type": "display_data",
       "png": "[encoded data removed]",
       "text": [
        "<matplotlib.figure.Figure at 0x1150c02d0>"
       ]
      }
     ],
     "prompt_number": 43
    },
    {
     "cell_type": "code",
     "collapsed": false,
     "input": [
      "query_seq = 'CGATCGATGCATGCTAGCTAGCACGTCGTGATGCTAGCTAGCTAGTCGTCGATCGATCA'\n",
      "subject_seq = 'CGATGCACGAACATGAAGCACAGTCGAT'\n",
      "print fraction_better_or_equivalent_alignments(query_seq, subject_seq, 100)"
     ],
     "language": "python",
     "metadata": {},
     "outputs": [
      {
       "output_type": "stream",
       "stream": "stdout",
       "text": [
        "0.0693069306931\n"
       ]
      }
     ],
     "prompt_number": 44
    },
    {
     "cell_type": "markdown",
     "metadata": {},
     "source": [
      "Population Genetics\n",
      "===================\n",
      "population genetics is uses principles of genetics to deduce the aspects of populations of organisms. While the populations can be any type of organism we will focus on humans here. \n"
     ]
    },
    {
     "cell_type": "markdown",
     "metadata": {},
     "source": [
      "Before we start a note on probability:\n",
      "What does it mean for a coin to have a 50% chance of landing on heads?\n",
      "\n",
      "What is the probability of throwing heads\n",
      "If I throw two coins and one is heads what is the probability the other is heads?\n",
      "If I throw tow coins in the air and one lands on heads on Tuesday what is the probability the other is heads?"
     ]
    },
    {
     "cell_type": "markdown",
     "metadata": {},
     "source": [
      "Hardy-Weinberg Equilibrium\n",
      "=========\n",
      "Why is Hardy-Weinberg equilibrium so important?\n",
      "---------------------\n",
      "1. We can predict allele frequencies based on genotype frequencies\t\n",
      "2. We can predict genotype frequencies from allele frequencies\n",
      "3. If HWE assumptions are met the population will return to HWE after one generation\n",
      "4. Allele frequencies do not change in HWE\n",
      "5. Rare alleles are found most often in heterozygotes\n",
      "\n",
      "What are the assumptions of HWE?\n",
      "------------------------\n",
      "1. The organism is diploid\n",
      "2. Reproduction is sexual\n",
      "3. The gene under consideration has two alleles\n",
      "4. The mating frequencies are identical in males and females\n",
      "5. Mating is random\n",
      "6. Population size is large(infinite)\n",
      "7. Migration is negligible\n",
      "8. No mutation\n",
      "9. No natural selection\n"
     ]
    },
    {
     "cell_type": "markdown",
     "metadata": {},
     "source": [
      "HWE equations\n",
      "------------\n",
      "p + q = 1\n",
      "\n",
      "p^2 + 2pq + q^2 = 1 \n",
      "\n"
     ]
    },
    {
     "cell_type": "code",
     "collapsed": false,
     "input": [
      "x = np.arange(0,1,0.01)\n",
      "p_hom = []\n",
      "q_hom = []\n",
      "het = []\n",
      "for p in x:\n",
      "    q = 1-p\n",
      "    p_hom.append(p*p)\n",
      "    q_hom.append(q*q)\n",
      "    het.append(2*p*q)\n",
      "    \n",
      "plt.plot(x, p_hom)\n",
      "plt.plot(x, q_hom)\n",
      "plt.plot(x, het)\n",
      "plt.text(.8, .8, 'p^2', fontsize=12, color='blue')\n",
      "plt.text(.15, .8, 'q^2', fontsize=12, color='green')\n",
      "plt.text(.45, .55, '2pq', fontsize=12, color='red')\n",
      "plt.xlabel('Allele Frequency (p)')\n",
      "plt.ylabel('Genotype Frequency')\n",
      "plt.show()"
     ],
     "language": "python",
     "metadata": {},
     "outputs": [
      {
       "metadata": {},
       "output_type": "display_data",
       "png": "[encoded data removed]",
       "text": [
        "<matplotlib.figure.Figure at 0x1146b4c50>"
       ]
      }
     ],
     "prompt_number": 45
    },
    {
     "cell_type": "markdown",
     "metadata": {},
     "source": [
      "How do we test for HWE? \n",
      "We use a x2 test statistic because the distribution is known and we want to compare deviation from expected. \n",
      "\n",
      "Chi-square test statistic:\n",
      "x2 = (O-E)^2/E"
     ]
    }
   ],
   "metadata": {}
  }
 ]
}