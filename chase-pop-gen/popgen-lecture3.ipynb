{
 "metadata": {
  "name": "",
  "signature": "sha256:270acd185eb63f9b98701d431fcceeae4764aa7f4e5fdd2b849896fa5db1bcfd"
 },
 "nbformat": 3,
 "nbformat_minor": 0,
 "worksheets": [
  {
   "cells": [
    {
     "cell_type": "code",
     "collapsed": false,
     "input": [
      "from __future__ import division\n",
      "import numpy as np\n",
      "import matplotlib.mlab as mlab\n",
      "import matplotlib.pyplot as plt\n",
      "from scipy.stats import chi2\n",
      "from random import choice"
     ],
     "language": "python",
     "metadata": {},
     "outputs": []
    },
    {
     "cell_type": "markdown",
     "metadata": {},
     "source": [
      "Population Genetics\n",
      "===================\n",
      "population genetics is uses principles of genetics to deduce the aspects of populations of organisms. While the populations can be any type of organism we will focus on humans here. \n"
     ]
    },
    {
     "cell_type": "markdown",
     "metadata": {},
     "source": [
      "Before we start a note on probability:\n",
      "What does it mean for a coin to have a 50% chance of landing on heads?\n",
      "\n",
      "What is the probability of throwing heads?\n",
      "What is the probability of getting heads then throwing again and getting heads. \n",
      "If I throw two coins and one is heads what is the probability the other is heads?\n",
      "If I throw two coins in the air and one lands on heads on Tuesday what is the probability the other is heads?"
     ]
    },
    {
     "cell_type": "markdown",
     "metadata": {},
     "source": [
      "Hardy-Weinberg Equilibrium\n",
      "=========\n",
      "Why is Hardy-Weinberg equilibrium so important?\n",
      "---------------------\n",
      "1. We can predict allele frequencies based on genotype frequencies\t\n",
      "2. We can predict genotype frequencies from allele frequencies\n",
      "3. If HWE assumptions are met the population will return to HWE after one generation\n",
      "4. Allele frequencies do not change in HWE\n",
      "5. Rare alleles are found most often in heterozygotes\n",
      "6. Provides a basis for all other processes in population genetics. Something to measure against.\n",
      "\n",
      "What are the assumptions of HWE?\n",
      "------------------------\n",
      "1. The organism is diploid\n",
      "2. Reproduction is sexual\n",
      "3. The gene under consideration has two alleles\n",
      "4. The mating frequencies are identical in males and females\n",
      "5. Mating is random\n",
      "6. Population size is large(infinite)\n",
      "7. Migration is negligible\n",
      "8. No mutation\n",
      "9. No natural selection\n",
      "10. Generations are discrete\n"
     ]
    },
    {
     "cell_type": "markdown",
     "metadata": {},
     "source": [
      "HWE equations\n",
      "------------\n",
      "p + q = 1\n",
      "\n",
      "p^2 + 2pq + q^2 = 1\n",
      "\n",
      "###Actual values:\n",
      "p = 2NAA + NAa/2N \n",
      "\n",
      "q = 2Naa + NAa/2N\n",
      "\n",
      "###Predicted values:\n",
      "p^2 number of p homozygotes in a population\n",
      "\n",
      "2pq number of heterozygotes\n",
      "\n",
      "q^2 number of q homozygotes\n",
      "\n",
      "Why is this true? What is a pool of infinite alleles? \n",
      "\n"
     ]
    },
    {
     "cell_type": "code",
     "collapsed": false,
     "input": [
      "population = []\n",
      "population = ['A']*6 + ['T']*4\n",
      "print population"
     ],
     "language": "python",
     "metadata": {},
     "outputs": []
    },
    {
     "cell_type": "markdown",
     "metadata": {},
     "source": [
      "What does HWE look like in practice? Run the code below to see a figure describing the different genotypes based on "
     ]
    },
    {
     "cell_type": "code",
     "collapsed": false,
     "input": [
      "x = np.arange(0,1 ,0.01)\n",
      "p_hom = []\n",
      "q_hom = []\n",
      "het = []\n",
      "for p in x:\n",
      "    q = 1-p\n",
      "    p_hom.append(p*p)\n",
      "    q_hom.append(q*q)\n",
      "    het.append(2*p*q)\n",
      "    \n",
      "plt.plot(x, p_hom)\n",
      "plt.plot(x, q_hom)\n",
      "plt.plot(x, het)\n",
      "plt.text(.8, .8, 'p^2', fontsize=12, color='blue')\n",
      "plt.text(.15, .8, 'q^2', fontsize=12, color='green')\n",
      "plt.text(.45, .55, '2pq', fontsize=12, color='red')\n",
      "plt.xlabel('Allele Frequency (p)')\n",
      "plt.ylabel('Genotype Frequency')\n",
      "plt.show()"
     ],
     "language": "python",
     "metadata": {},
     "outputs": []
    },
    {
     "cell_type": "markdown",
     "metadata": {},
     "source": [
      "Based on this figure we can see that from either heterozygous state we can predict the other two states, however we cannot predict the homozygous states from the heterozygous state. "
     ]
    },
    {
     "cell_type": "markdown",
     "metadata": {},
     "source": [
      "Example if p = .7, What is q?, what are each of the predicted genotype frequencies?\n"
     ]
    },
    {
     "cell_type": "code",
     "collapsed": false,
     "input": [
      "#Work this out here:"
     ],
     "language": "python",
     "metadata": {},
     "outputs": []
    },
    {
     "cell_type": "markdown",
     "metadata": {},
     "source": [
      "What are some ways that we can deviate from HWE? Perhaps the most common, and the one we'll look at is based on population structure. \n",
      "\n",
      "We'll start by looking at just heterozygosity"
     ]
    },
    {
     "cell_type": "markdown",
     "metadata": {},
     "source": [
      "Lets imagine we ahve two theoretical populations with the following information, both of these populations are in HWE. \n",
      "\n",
      "Calculate heterozygisty for both populations. "
     ]
    },
    {
     "cell_type": "code",
     "collapsed": false,
     "input": [
      "#Imagine we have two theoretical populations.\n",
      "\n",
      "pop1 = 734 \n",
      "pop2 = 567\n",
      "p1 = .3\n",
      "p2 = .8\n",
      "\n",
      "def get_het(p):\n",
      "    q = 1 - p\n",
      "    het = 2*p*q\n",
      "    return het\n",
      "\n",
      "het1 = get_het(p1)\n",
      "het2 = get_het(p2)\n",
      "\n",
      "ps = [p1, p2]\n",
      "hets = [het1, het2]"
     ],
     "language": "python",
     "metadata": {},
     "outputs": []
    },
    {
     "cell_type": "markdown",
     "metadata": {},
     "source": [
      "What is the actual heterozygosity of the two populations, both of which are in HWE? What is the predicted and actual heterozygosity?"
     ]
    },
    {
     "cell_type": "code",
     "collapsed": false,
     "input": [
      "act_het = \n",
      "act_p = \n"
     ],
     "language": "python",
     "metadata": {},
     "outputs": []
    },
    {
     "cell_type": "code",
     "collapsed": false,
     "input": [
      "#Next line takes the expected points\n",
      "plt.scatter(ps, hets, s=100, color='green')\n",
      "#actual points\n",
      "plt.scatter(act_p, act_het, s=100, color='blue')\n",
      "plt.plot(x, het, color='red')\n",
      "plt.text(.45, .55, '2pq', fontsize=12, color='red')\n",
      "plt.xlabel('Allele Frequency (p)')\n",
      "plt.ylabel('Genotype Frequency')\n",
      "#createp the connecting line\n",
      "#plt.plot(ps, hets)\n",
      "plt.ylim(0, .65)\n",
      "plt.show()"
     ],
     "language": "python",
     "metadata": {},
     "outputs": []
    },
    {
     "cell_type": "markdown",
     "metadata": {},
     "source": [
      "How do we actually test for HWE? \n",
      "\n",
      "First let's from some hypotheses\n",
      "We use a x2 test statistic because the distribution is known and we want to compare deviation from expected. \n",
      "\n",
      "Chi-square test statistic:\n",
      "x2 = sum((O-E)^2/E)\n"
     ]
    },
    {
     "cell_type": "code",
     "collapsed": false,
     "input": [
      "df=1\n",
      "pv=chi2.pdf(2, df)\n",
      "print pv"
     ],
     "language": "python",
     "metadata": {},
     "outputs": []
    },
    {
     "cell_type": "code",
     "collapsed": false,
     "input": [],
     "language": "python",
     "metadata": {},
     "outputs": []
    }
   ],
   "metadata": {}
  }
 ]
}