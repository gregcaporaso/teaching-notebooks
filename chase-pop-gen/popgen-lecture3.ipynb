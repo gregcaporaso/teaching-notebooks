{
 "metadata": {
  "name": "",
  "signature": "sha256:4488bc24c3c13f97d24dccdd4c7bf832e6e92c5a88b205a9ff1cf7b84def423e"
 },
 "nbformat": 3,
 "nbformat_minor": 0,
 "worksheets": [
  {
   "cells": [
    {
     "cell_type": "code",
     "collapsed": false,
     "input": [
      "from __future__ import division\n",
      "import numpy as np\n",
      "import matplotlib.mlab as mlab\n",
      "import matplotlib.pyplot as plt\n",
      "from scipy.stats import chi2, norm\n",
      "from random import choice"
     ],
     "language": "python",
     "metadata": {},
     "outputs": [],
     "prompt_number": 4
    },
    {
     "cell_type": "markdown",
     "metadata": {},
     "source": [
      "Population Genetics\n",
      "===================\n",
      "population genetics uses principles of genetics to deduce aspects of populations of organisms. While the populations can be any type of organism we will focus on humans here. \n"
     ]
    },
    {
     "cell_type": "markdown",
     "metadata": {},
     "source": [
      "Before we start a note on probability:\n",
      "What does it mean for a coin to have a 50% chance of landing on heads?\n",
      "\n",
      "What is the probability of throwing heads?\n",
      "What is the probability of getting heads then throwing again and getting heads. \n",
      "If I throw two coins and one is heads what is the probability the other is heads?\n",
      "If I throw two coins in the air and one lands on heads on Tuesday what is the probability the other is heads?"
     ]
    },
    {
     "cell_type": "markdown",
     "metadata": {},
     "source": [
      "Hardy-Weinberg Equilibrium\n",
      "=========\n",
      "Why is Hardy-Weinberg equilibrium important?\n",
      "---------------------\n",
      "1. We can predict allele frequencies based on genotype frequencies\t\n",
      "2. We can predict genotype frequencies from allele frequencies\n",
      "3. If HWE assumptions are met the population will return to HWE after one generation\n",
      "4. Allele frequencies do not change in HWE\n",
      "5. Rare alleles are found most often in heterozygotes\n",
      "6. Provides a basis for all other processes in population genetics. Something to measure against.\n",
      "\n",
      "What are the assumptions of HWE?\n",
      "------------------------\n",
      "1. The organism is diploid\n",
      "2. Reproduction is sexual\n",
      "3. The gene under consideration has two alleles\n",
      "4. The mating frequencies are identical in males and females\n",
      "5. Mating is random\n",
      "6. Population size is large(infinite)\n",
      "7. Migration is negligible\n",
      "8. No mutation\n",
      "9. No natural selection\n",
      "10. Generations are discrete\n"
     ]
    },
    {
     "cell_type": "markdown",
     "metadata": {},
     "source": [
      "HWE equations\n",
      "------------\n",
      "p + q = 1\n",
      "\n",
      "p^2 + 2pq + q^2 = 1\n",
      "\n",
      "###Actual values:\n",
      "p = 2NAA + NAa/2N \n",
      "\n",
      "q = 2Naa + NAa/2N\n",
      "\n",
      "###Predicted values:\n",
      "p^2 number of p homozygotes in a population\n",
      "\n",
      "2pq number of heterozygotes\n",
      "\n",
      "q^2 number of q homozygotes\n",
      "\n",
      "Why is this true? What is a pool of infinite alleles? \n",
      "\n"
     ]
    },
    {
     "cell_type": "code",
     "collapsed": false,
     "input": [
      "population = [('A', 'T')]*5 + [('A', 'A')]*3 + [('T', 'T')]*7\n",
      "alleles = []\n",
      "#create allele counts and then frequencies here\n",
      "print population"
     ],
     "language": "python",
     "metadata": {},
     "outputs": [
      {
       "output_type": "stream",
       "stream": "stdout",
       "text": [
        "[('A', 'T'), ('A', 'T'), ('A', 'T'), ('A', 'T'), ('A', 'T'), ('A', 'A'), ('A', 'A'), ('A', 'A'), ('T', 'T'), ('T', 'T'), ('T', 'T'), ('T', 'T'), ('T', 'T'), ('T', 'T'), ('T', 'T')]\n"
       ]
      }
     ],
     "prompt_number": 5
    },
    {
     "cell_type": "markdown",
     "metadata": {},
     "source": [
      "What does HWE look like in practice? Run the code below to see a figure describing the different genotypes based on "
     ]
    },
    {
     "cell_type": "code",
     "collapsed": false,
     "input": [
      "x = np.arange(0,1 ,0.01)\n",
      "p_hom = []\n",
      "q_hom = []\n",
      "het = []\n",
      "for p in x:\n",
      "    q = 1-p\n",
      "    p_hom.append(p*p)\n",
      "    q_hom.append(q*q)\n",
      "    het.append(2*p*q)\n",
      "    \n",
      "plt.plot(x, p_hom)\n",
      "plt.plot(x, q_hom)\n",
      "plt.plot(x, het)\n",
      "plt.text(.8, .8, 'p^2', fontsize=12, color='blue')\n",
      "plt.text(.15, .8, 'q^2', fontsize=12, color='green')\n",
      "plt.text(.45, .55, '2pq', fontsize=12, color='red')\n",
      "plt.xlabel('Allele Frequency (p)')\n",
      "plt.ylabel('Genotype Frequency')\n",
      "plt.show()"
     ],
     "language": "python",
     "metadata": {},
     "outputs": [
      {
       "metadata": {},
       "output_type": "display_data",
       "png": "[encoded data removed]",
       "text": [
        "<matplotlib.figure.Figure at 0x10abcfad0>"
       ]
      }
     ],
     "prompt_number": 6
    },
    {
     "cell_type": "markdown",
     "metadata": {},
     "source": [
      "Based on this figure we can see that from either heterozygous state we can predict the other two states, however we cannot predict the homozygous states from the heterozygous state. "
     ]
    },
    {
     "cell_type": "markdown",
     "metadata": {},
     "source": [
      "Example if p = .7, What is q?, what are each of the predicted genotype frequencies?\n"
     ]
    },
    {
     "cell_type": "code",
     "collapsed": false,
     "input": [
      "#Work this out here:"
     ],
     "language": "python",
     "metadata": {},
     "outputs": [],
     "prompt_number": 7
    },
    {
     "cell_type": "markdown",
     "metadata": {},
     "source": [
      "What are some ways that we can deviate from HWE? Perhaps the most common, and the one we'll look at is based on population structure. \n",
      "\n",
      "We'll start by looking at just heterozygosity"
     ]
    },
    {
     "cell_type": "markdown",
     "metadata": {},
     "source": [
      "Lets imagine we have two theoretical populations with the following information, both of these populations are in HWE. \n",
      "\n",
      "Calculate heterozygisty for both populations. "
     ]
    },
    {
     "cell_type": "code",
     "collapsed": false,
     "input": [
      "#Imagine we have two theoretical populations.\n",
      "\n",
      "pop1 = 734 \n",
      "pop2 = 567\n",
      "pop3 = 600\n",
      "p1 = .3\n",
      "p2 = .8\n",
      "p3 = .5\n",
      "\n",
      "def get_het(p):\n",
      "    q = 1 - p\n",
      "    het = 2*p*q\n",
      "    return het\n",
      "\n",
      "het1 = get_het(p1)\n",
      "het2 = get_het(p2)\n",
      "het3 = get_het(p3)\n",
      "# remember to add in p2 and het2\n",
      "ps = [.3, .8]#, .5]\n",
      "hets = [.42, .32]#, .5]\n",
      "print het3"
     ],
     "language": "python",
     "metadata": {},
     "outputs": [
      {
       "output_type": "stream",
       "stream": "stdout",
       "text": [
        "0.5\n"
       ]
      }
     ],
     "prompt_number": 11
    },
    {
     "cell_type": "markdown",
     "metadata": {},
     "source": [
      "What is the actual heterozygosity of the two populations, both of which are in HWE? What is the predicted and actual heterozygosity?"
     ]
    },
    {
     "cell_type": "code",
     "collapsed": false,
     "input": [
      "# n = 734 + 567 + 600\n",
      "# act_p = ((.3*734) + (567*.8) + (600*.5))/n\n",
      "# act_het = ((.42*734)+(.32*567) + (.5*600))/n\n",
      "act_het = .375\n",
      "act_p = .518\n"
     ],
     "language": "python",
     "metadata": {},
     "outputs": [],
     "prompt_number": 12
    },
    {
     "cell_type": "code",
     "collapsed": false,
     "input": [
      "#Next line takes the expected points\n",
      "plt.scatter(ps, hets, s=100, color='green')\n",
      "# actual points\n",
      "plt.scatter(act_p, act_het, s=100, color='blue')\n",
      "plt.plot(x, het, color='red')\n",
      "plt.text(.45, .55, '2pq', fontsize=12, color='red')\n",
      "plt.xlabel('Allele Frequency (p)')\n",
      "plt.ylabel('Genotype Frequency')\n",
      "#createp the connecting line\n",
      "plt.plot(ps, hets)\n",
      "plt.ylim(0, .65)\n",
      "plt.show()"
     ],
     "language": "python",
     "metadata": {},
     "outputs": [
      {
       "metadata": {},
       "output_type": "display_data",
       "png": "[encoded data removed]",
       "text": [
        "<matplotlib.figure.Figure at 0x10ac99f10>"
       ]
      }
     ],
     "prompt_number": 13
    },
    {
     "cell_type": "markdown",
     "metadata": {},
     "source": [
      "How do we actually test for HWE?\n",
      "\n",
      "Step 1 define our null and alternative hypothesis: \n",
      "\n",
      "Ho:\n",
      "\n",
      "Ha:\n",
      "\n",
      "Step 2 set out alpha:\n",
      "\n",
      "alpha = \n",
      "\n",
      "Step 3 create test statistic:\n",
      "\n",
      "We'll use a x2 test statistic because the distribution is known and we want to compare deviation from expected. \n",
      "\n",
      "x2 = sum((O-E)^2/E)\n",
      "\n",
      "x2 = \n",
      "\n",
      "Step 4 get p-value:\n",
      "\n",
      "p = \n",
      "\n",
      "Step 5 compare p-value to alpha:\n",
      "\n",
      "Chi-square test statistic:\n",
      "x2 = sum((O-E)^2/E)\n"
     ]
    },
    {
     "cell_type": "code",
     "collapsed": false,
     "input": [
      "df=1\n",
      "pv=chi2.pdf(8, df)\n",
      "print pv"
     ],
     "language": "python",
     "metadata": {},
     "outputs": [
      {
       "output_type": "stream",
       "stream": "stdout",
       "text": [
        "0.00258337316926\n"
       ]
      }
     ],
     "prompt_number": 90
    },
    {
     "cell_type": "code",
     "collapsed": false,
     "input": [
      "df=1\n",
      "rv=chi2(df)\n",
      "v=norm.rvs(size=1000000)\n",
      "v2=v*v\n",
      "h,bin_edges=np.histogram(v2,bins=200,density=True)\n",
      "bin_center=(bin_edges[1:]+bin_edges[:-1])/2.0\n",
      "plt.ylim(0, 1.5)\n",
      "plt.xlim(0, 20)\n",
      "plt.bar(bin_center,h,width=0.2)\n",
      "x=np.linspace(0,20)\n",
      "chi2pdf=rv.pdf(x)\n",
      "plt.figure(figsize=(100, 100), dpi=1000)\n",
      "plt.show()"
     ],
     "language": "python",
     "metadata": {},
     "outputs": [
      {
       "metadata": {},
       "output_type": "display_data",
       "png": "[encoded data removed]",
       "text": [
        "<matplotlib.figure.Figure at 0x10f843390>"
       ]
      },
      {
       "metadata": {},
       "output_type": "display_data",
       "text": [
        "<matplotlib.figure.Figure at 0x10f843c10>"
       ]
      }
     ],
     "prompt_number": 18
    },
    {
     "cell_type": "markdown",
     "metadata": {},
     "source": [
      "What do we do if the distribution is unknown? "
     ]
    },
    {
     "cell_type": "code",
     "collapsed": false,
     "input": [
      "#If distribution is unknown we can bootstrap\n",
      "def calculate_x2_test_stat(p_hom, q_hom, het, n):\n",
      "    p = ((2*p_hom) + het)/(2*n)\n",
      "    q = ((2*q_hom) + het)/(2*n)\n",
      "    p_pred = p*p*n\n",
      "    q_pred = q*q*n\n",
      "    het_pred = 2*p*q*n\n",
      "#     print het_pred, het\n",
      "    return ((((p_hom - p_pred)**2)/p_pred) + (((q_hom - q_pred)**2)/q_pred) + (((het - het_pred)**2)/het_pred))\n",
      "     \n",
      "def weightedChoice(weights, objects):\n",
      "    cs = np.cumsum(weights)\n",
      "    idx = sum(cs < np.random.rand())\n",
      "    return objects[idx]\n",
      "\n",
      "def fraction_better_or_equivalent_hwe(n, p, test_stat, iterations):\n",
      "    q = 1-p\n",
      "    weights = [p, q]\n",
      "    alleles = ['p', 'q']\n",
      "    better = 0 \n",
      "    for i in range(iterations):\n",
      "        p_hom = 0\n",
      "        q_hom = 0\n",
      "        het = 0\n",
      "        for i in range(n):\n",
      "            genotype = [weightedChoice(weights, alleles), weightedChoice(weights, alleles)]\n",
      "            if genotype == ['p', 'p']:\n",
      "                p_hom += 1\n",
      "            elif genotype[0] != genotype[1]:\n",
      "                het += 1\n",
      "            else:\n",
      "                q_hom += 1\n",
      "#         print p_hom, q_hom, het\n",
      "        rand_test_stat = calculate_x2_test_stat(p_hom, q_hom, het, n)\n",
      "        if rand_test_stat >= test_stat:\n",
      "            better += 1\n",
      "    return better/iterations\n",
      "             \n",
      "print fraction_better_or_equivalent_hwe(1301, .518, 8, 1000)"
     ],
     "language": "python",
     "metadata": {},
     "outputs": [
      {
       "output_type": "stream",
       "stream": "stdout",
       "text": [
        "0.003\n"
       ]
      }
     ],
     "prompt_number": 15
    },
    {
     "cell_type": "markdown",
     "metadata": {},
     "source": [
      "Inbreeding\n",
      "==========\n",
      "\n",
      "1. In humans this typically means first cousins \n",
      "2. Other sexually reproducing organisms may undergo brother sister mating, plants may self fertilize\n",
      "3. A small population will inevitably be somewhat inbred reagrdless of the distance of mating relationships\n",
      "4. Similar to population structure\n",
      "5. The main effect is a reduction in heterozygosity relative to expected heterozygosity"
     ]
    },
    {
     "cell_type": "markdown",
     "metadata": {},
     "source": [
      "Example 1 \n",
      "-----\n",
      "A typical example of inbreeding involves plants that self fertillize. This is often used because it is the most extreme example of inbreeding\n",
      "\n",
      "Example: First imagine a normal population in HWE, what are the predicted genotype frequencies with a p of 0.5? Now imagine a species of plant that is self fertilizing. What are the predicted genotype frequencies? \n",
      "\n"
     ]
    },
    {
     "cell_type": "markdown",
     "metadata": {},
     "source": [
      "F = (Ho - HI)/Ho \n",
      "\n",
      "AA: p^2 + pqF\n",
      "Aa: 2pq -2pqF\n",
      "aa: q^2 + pqF "
     ]
    },
    {
     "cell_type": "markdown",
     "metadata": {},
     "source": [
      "Example 2\n",
      "----------\n",
      "\n",
      "If we know a population is inbreeding at a level F = .1, what is the prediceted heterozygosity? \n"
     ]
    },
    {
     "cell_type": "code",
     "collapsed": false,
     "input": [
      "##Need to figure out if it is possible to display this here. \n",
      "\n",
      "from matplotlib.widgets import Slider\n",
      "\n",
      "fig, ax = plt.subplots()\n",
      "plt.subplots_adjust(left=0.25, bottom=0.25)\n",
      "tp = np.arange(0,1 ,0.01)\n",
      "tq = 1-tp\n",
      "sp = tp*tp\n",
      "sq = tq*tq\n",
      "shet = 2*tp*tq\n",
      "p, = plt.plot(tp,sp, lw=2, color='red')\n",
      "q, = plt.plot(tp,sq, lw=2, color='green')\n",
      "het, = plt.plot(tp,shet, lw=2, color='blue')\n",
      "\n",
      "plt.axis([0, 1, 0, 1])\n",
      "\n",
      "axcolor = 'lightgoldenrodyellow'\n",
      "axamp  = plt.axes([0.25, 0.15, 0.65, 0.03], axisbg=axcolor)\n",
      "\n",
      "samp = Slider(axamp, 'F', -0.0, 1.0, valinit=0)\n",
      "\n",
      "def updatep(val):\n",
      "    amp = samp.val\n",
      "#     freq = sfreq.val\n",
      "    p.set_ydata((tp*tp) + (amp*tp*tq))\n",
      "    q.set_ydata((tq*tq) + (amp*tp*tq))\n",
      "    het.set_ydata((2*tq*tp)*(1-amp))\n",
      "\n",
      "    fig.canvas.draw_idle()\n",
      "samp.on_changed(updatep)\n",
      "\n",
      "plt.show()\n",
      "        "
     ],
     "language": "python",
     "metadata": {},
     "outputs": [
      {
       "metadata": {},
       "output_type": "display_data",
       "png": "[encoded data removed]",
       "text": [
        "<matplotlib.figure.Figure at 0x111c525d0>"
       ]
      }
     ],
     "prompt_number": 49
    },
    {
     "cell_type": "markdown",
     "metadata": {},
     "source": [
      "Imagine a population that meets most of the HWE assumptions, however there are a few that are being violated.\n",
      "1. The population has a high level of inbreeding\n",
      "2. Selection is present in that homozygous recessives have reduced fitness\n",
      "3. The population is finite\n",
      "\n",
      "Using the inbreeding equations above, speculate what would happen to the deleterious allele over time relative to a population in which there was no (or much less) inbreeding. \n"
     ]
    },
    {
     "cell_type": "code",
     "collapsed": false,
     "input": [],
     "language": "python",
     "metadata": {},
     "outputs": []
    }
   ],
   "metadata": {}
  }
 ]
}